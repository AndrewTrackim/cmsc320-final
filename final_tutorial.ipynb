{
 "cells": [
  {
   "cell_type": "markdown",
   "metadata": {
    "id": "cbQmN5RBT8v8"
   },
   "source": [
    "# House Expenditure Analysis\n",
    "## Motivation\n",
    "\n",
    "Every two years, every member of the United States House of Representatives is up for election. After being elected, members of the House are given a set budget from the legislature itself to hire staff, buy office equipment, and defray other costs of legislating and addressing constituent concerns. While each office gets the same amount of money from Congress to spend on these purposes, congressional offices have discretion over how that allowance is actually spent, and we would like to see whether some spending patterns are associated with higher political success. "
   ]
  },
  {
   "cell_type": "markdown",
   "metadata": {
    "id": "a5IWXLObT8wC"
   },
   "source": [
    "## Getting/Formatting the Data\n",
    "### ProPublica House Office Expenditure Data\n",
    "For this project, we decided to use the [House Office Expenditure Data](https://www.propublica.org/datastore/dataset/house-office-expenditures) from ProPublica as it contains well formatted data about house expenditures from 2009 to 2021. \n",
    "\n",
    "The ProPublica website requires an email to download the data. To programmatically access the datasets we are working with, we have included identical copies of the ProPublica dataset [here](https://github.com/AndrewTrackim/cmsc320-final/raw/master/house-expenditure/)."
   ]
  },
  {
   "cell_type": "code",
   "execution_count": 114,
   "metadata": {
    "colab": {
     "base_uri": "https://localhost:8080/",
     "height": 1000
    },
    "collapsed": true,
    "id": "xU73cFvLT8wG",
    "outputId": "71eafa09-c14d-4962-b5bc-146ee70ae18e"
   },
   "outputs": [
    {
     "name": "stderr",
     "output_type": "stream",
     "text": [
      "/opt/conda/lib/python3.8/site-packages/IPython/core/interactiveshell.py:3146: DtypeWarning: Columns (0) have mixed types.Specify dtype option on import or set low_memory=False.\n",
      "  has_raised = await self.run_ast_nodes(code_ast.body, cell_name,\n",
      "/opt/conda/lib/python3.8/site-packages/IPython/core/interactiveshell.py:3146: DtypeWarning: Columns (2,14) have mixed types.Specify dtype option on import or set low_memory=False.\n",
      "  has_raised = await self.run_ast_nodes(code_ast.body, cell_name,\n",
      "/opt/conda/lib/python3.8/site-packages/IPython/core/interactiveshell.py:3146: DtypeWarning: Columns (15) have mixed types.Specify dtype option on import or set low_memory=False.\n",
      "  has_raised = await self.run_ast_nodes(code_ast.body, cell_name,\n"
     ]
    },
    {
     "data": {
      "text/html": [
       "<div>\n",
       "<style scoped>\n",
       "    .dataframe tbody tr th:only-of-type {\n",
       "        vertical-align: middle;\n",
       "    }\n",
       "\n",
       "    .dataframe tbody tr th {\n",
       "        vertical-align: top;\n",
       "    }\n",
       "\n",
       "    .dataframe thead th {\n",
       "        text-align: right;\n",
       "    }\n",
       "</style>\n",
       "<table border=\"1\" class=\"dataframe\">\n",
       "  <thead>\n",
       "    <tr style=\"text-align: right;\">\n",
       "      <th></th>\n",
       "      <th>BIOGUIDE_ID</th>\n",
       "      <th>OFFICE</th>\n",
       "      <th>QUARTER</th>\n",
       "      <th>CATEGORY</th>\n",
       "      <th>DATE</th>\n",
       "      <th>PAYEE</th>\n",
       "      <th>START DATE</th>\n",
       "      <th>END DATE</th>\n",
       "      <th>PURPOSE</th>\n",
       "      <th>AMOUNT</th>\n",
       "      <th>...</th>\n",
       "      <th>TRANSCODELONG</th>\n",
       "      <th>RECORDID</th>\n",
       "      <th>RECIP (orig.)</th>\n",
       "      <th>PROGRAM</th>\n",
       "      <th>SORT SEQUENCE</th>\n",
       "      <th>AMOUNT</th>\n",
       "      <th>TRANSACTION DATE</th>\n",
       "      <th>DATA SOURCE</th>\n",
       "      <th>DOCUMENT</th>\n",
       "      <th>id</th>\n",
       "    </tr>\n",
       "  </thead>\n",
       "  <tbody>\n",
       "    <tr>\n",
       "      <th>7597</th>\n",
       "      <td>A000014</td>\n",
       "      <td>HON. NEIL ABERCROMBIE</td>\n",
       "      <td>2010Q1</td>\n",
       "      <td>FRANKED MAIL</td>\n",
       "      <td>NaN</td>\n",
       "      <td>02Â­22   O4 NW201000101        UNITED STATES P...</td>\n",
       "      <td>01/03/10</td>\n",
       "      <td>01/31/10</td>\n",
       "      <td>FRANKED MAIL</td>\n",
       "      <td>126.58</td>\n",
       "      <td>...</td>\n",
       "      <td>NaN</td>\n",
       "      <td>NaN</td>\n",
       "      <td>02Â­22   O4 NW201000101        UNITED STATES P...</td>\n",
       "      <td>NaN</td>\n",
       "      <td>NaN</td>\n",
       "      <td>NaN</td>\n",
       "      <td>NaN</td>\n",
       "      <td>NaN</td>\n",
       "      <td>NaN</td>\n",
       "      <td>NaN</td>\n",
       "    </tr>\n",
       "    <tr>\n",
       "      <th>7598</th>\n",
       "      <td>A000014</td>\n",
       "      <td>HON. NEIL ABERCROMBIE</td>\n",
       "      <td>2010Q1</td>\n",
       "      <td>FRANKED MAIL</td>\n",
       "      <td>NaN</td>\n",
       "      <td>03Â­25   O4 NW201000200        UNITED STATES P...</td>\n",
       "      <td>02/01/10</td>\n",
       "      <td>02/28/10</td>\n",
       "      <td>FRANKED MAIL</td>\n",
       "      <td>1112.16</td>\n",
       "      <td>...</td>\n",
       "      <td>NaN</td>\n",
       "      <td>NaN</td>\n",
       "      <td>03Â­25   O4 NW201000200        UNITED STATES P...</td>\n",
       "      <td>NaN</td>\n",
       "      <td>NaN</td>\n",
       "      <td>NaN</td>\n",
       "      <td>NaN</td>\n",
       "      <td>NaN</td>\n",
       "      <td>NaN</td>\n",
       "      <td>NaN</td>\n",
       "    </tr>\n",
       "    <tr>\n",
       "      <th>7599</th>\n",
       "      <td>A000014</td>\n",
       "      <td>HON. NEIL ABERCROMBIE</td>\n",
       "      <td>2010Q1</td>\n",
       "      <td>PERSONNEL COMPENSATION</td>\n",
       "      <td>NaN</td>\n",
       "      <td>ADAMS,LEE-ANN E</td>\n",
       "      <td>01/03/10</td>\n",
       "      <td>03/31/10</td>\n",
       "      <td>MILITARY LIAISON</td>\n",
       "      <td>21266.67</td>\n",
       "      <td>...</td>\n",
       "      <td>NaN</td>\n",
       "      <td>NaN</td>\n",
       "      <td>ADAMS,LEE-ANN E</td>\n",
       "      <td>NaN</td>\n",
       "      <td>NaN</td>\n",
       "      <td>NaN</td>\n",
       "      <td>NaN</td>\n",
       "      <td>NaN</td>\n",
       "      <td>NaN</td>\n",
       "      <td>NaN</td>\n",
       "    </tr>\n",
       "    <tr>\n",
       "      <th>7600</th>\n",
       "      <td>A000014</td>\n",
       "      <td>HON. NEIL ABERCROMBIE</td>\n",
       "      <td>2010Q1</td>\n",
       "      <td>PERSONNEL COMPENSATION</td>\n",
       "      <td>NaN</td>\n",
       "      <td>ASSELBAYE, AMY</td>\n",
       "      <td>01/03/10</td>\n",
       "      <td>02/28/10</td>\n",
       "      <td>CHIEF OF STAFF</td>\n",
       "      <td>21750.00</td>\n",
       "      <td>...</td>\n",
       "      <td>NaN</td>\n",
       "      <td>NaN</td>\n",
       "      <td>ASSELBAYE, AMY</td>\n",
       "      <td>NaN</td>\n",
       "      <td>NaN</td>\n",
       "      <td>NaN</td>\n",
       "      <td>NaN</td>\n",
       "      <td>NaN</td>\n",
       "      <td>NaN</td>\n",
       "      <td>NaN</td>\n",
       "    </tr>\n",
       "    <tr>\n",
       "      <th>7601</th>\n",
       "      <td>A000014</td>\n",
       "      <td>HON. NEIL ABERCROMBIE</td>\n",
       "      <td>2010Q1</td>\n",
       "      <td>PERSONNEL COMPENSATION</td>\n",
       "      <td>NaN</td>\n",
       "      <td>CHAN,GLORIA S</td>\n",
       "      <td>02/01/10</td>\n",
       "      <td>02/28/10</td>\n",
       "      <td>SHARED EMPLOYEE</td>\n",
       "      <td>4500.00</td>\n",
       "      <td>...</td>\n",
       "      <td>NaN</td>\n",
       "      <td>NaN</td>\n",
       "      <td>CHAN,GLORIA S</td>\n",
       "      <td>NaN</td>\n",
       "      <td>NaN</td>\n",
       "      <td>NaN</td>\n",
       "      <td>NaN</td>\n",
       "      <td>NaN</td>\n",
       "      <td>NaN</td>\n",
       "      <td>NaN</td>\n",
       "    </tr>\n",
       "    <tr>\n",
       "      <th>...</th>\n",
       "      <td>...</td>\n",
       "      <td>...</td>\n",
       "      <td>...</td>\n",
       "      <td>...</td>\n",
       "      <td>...</td>\n",
       "      <td>...</td>\n",
       "      <td>...</td>\n",
       "      <td>...</td>\n",
       "      <td>...</td>\n",
       "      <td>...</td>\n",
       "      <td>...</td>\n",
       "      <td>...</td>\n",
       "      <td>...</td>\n",
       "      <td>...</td>\n",
       "      <td>...</td>\n",
       "      <td>...</td>\n",
       "      <td>...</td>\n",
       "      <td>...</td>\n",
       "      <td>...</td>\n",
       "      <td>...</td>\n",
       "      <td>...</td>\n",
       "    </tr>\n",
       "    <tr>\n",
       "      <th>92425</th>\n",
       "      <td>Z000017</td>\n",
       "      <td>2021 HON. LEE M. ZELDIN</td>\n",
       "      <td>2020Q3</td>\n",
       "      <td>EQUIPMENT</td>\n",
       "      <td></td>\n",
       "      <td></td>\n",
       "      <td></td>\n",
       "      <td></td>\n",
       "      <td>OFFICE TOTALS:</td>\n",
       "      <td>317215.95</td>\n",
       "      <td>...</td>\n",
       "      <td>NaN</td>\n",
       "      <td></td>\n",
       "      <td>NaN</td>\n",
       "      <td>OFFICIAL EXPENSES OF MEMBERS</td>\n",
       "      <td>GRAND TOTAL FOR ORGANIZATION</td>\n",
       "      <td>NaN</td>\n",
       "      <td>NaN</td>\n",
       "      <td>NaN</td>\n",
       "      <td>NaN</td>\n",
       "      <td>NaN</td>\n",
       "    </tr>\n",
       "    <tr>\n",
       "      <th>92426</th>\n",
       "      <td>Z000017</td>\n",
       "      <td>2021 HON. LEE M. ZELDIN</td>\n",
       "      <td>2020Q3</td>\n",
       "      <td>PERSONNEL COMPENSATION</td>\n",
       "      <td></td>\n",
       "      <td>MCMAHON JORDANA A.</td>\n",
       "      <td>2021-07-01</td>\n",
       "      <td>2021-07-14</td>\n",
       "      <td>DISTRICT OFFICE PAID INTERN -</td>\n",
       "      <td>777.78</td>\n",
       "      <td>...</td>\n",
       "      <td>NaN</td>\n",
       "      <td></td>\n",
       "      <td>NaN</td>\n",
       "      <td>INTERN ALLOWANCES</td>\n",
       "      <td>DETAIL</td>\n",
       "      <td>NaN</td>\n",
       "      <td>NaN</td>\n",
       "      <td>NaN</td>\n",
       "      <td>NaN</td>\n",
       "      <td>NaN</td>\n",
       "    </tr>\n",
       "    <tr>\n",
       "      <th>92427</th>\n",
       "      <td>Z000017</td>\n",
       "      <td>2021 HON. LEE M. ZELDIN</td>\n",
       "      <td>2020Q3</td>\n",
       "      <td>PERSONNEL COMPENSATION</td>\n",
       "      <td></td>\n",
       "      <td></td>\n",
       "      <td></td>\n",
       "      <td></td>\n",
       "      <td>PERSONNEL COMPENSATION TOTALS:</td>\n",
       "      <td>777.78</td>\n",
       "      <td>...</td>\n",
       "      <td>NaN</td>\n",
       "      <td></td>\n",
       "      <td>NaN</td>\n",
       "      <td>INTERN ALLOWANCES</td>\n",
       "      <td>SUBTOTAL</td>\n",
       "      <td>NaN</td>\n",
       "      <td>NaN</td>\n",
       "      <td>NaN</td>\n",
       "      <td>NaN</td>\n",
       "      <td>NaN</td>\n",
       "    </tr>\n",
       "    <tr>\n",
       "      <th>92428</th>\n",
       "      <td>Z000017</td>\n",
       "      <td>2021 HON. LEE M. ZELDIN</td>\n",
       "      <td>2020Q3</td>\n",
       "      <td>PERSONNEL COMPENSATION</td>\n",
       "      <td></td>\n",
       "      <td></td>\n",
       "      <td></td>\n",
       "      <td></td>\n",
       "      <td>INTERN ALLOWANCES TOTALS:</td>\n",
       "      <td>777.78</td>\n",
       "      <td>...</td>\n",
       "      <td>NaN</td>\n",
       "      <td></td>\n",
       "      <td>NaN</td>\n",
       "      <td>INTERN ALLOWANCES</td>\n",
       "      <td>SUBTOTAL</td>\n",
       "      <td>NaN</td>\n",
       "      <td>NaN</td>\n",
       "      <td>NaN</td>\n",
       "      <td>NaN</td>\n",
       "      <td>NaN</td>\n",
       "    </tr>\n",
       "    <tr>\n",
       "      <th>92429</th>\n",
       "      <td>Z000017</td>\n",
       "      <td>2021 HON. LEE M. ZELDIN</td>\n",
       "      <td>2020Q3</td>\n",
       "      <td>PERSONNEL COMPENSATION</td>\n",
       "      <td></td>\n",
       "      <td></td>\n",
       "      <td></td>\n",
       "      <td></td>\n",
       "      <td>OFFICE TOTALS:</td>\n",
       "      <td>777.78</td>\n",
       "      <td>...</td>\n",
       "      <td>NaN</td>\n",
       "      <td></td>\n",
       "      <td>NaN</td>\n",
       "      <td>INTERN ALLOWANCES</td>\n",
       "      <td>GRAND TOTAL FOR ORGANIZATION</td>\n",
       "      <td>NaN</td>\n",
       "      <td>NaN</td>\n",
       "      <td>NaN</td>\n",
       "      <td>NaN</td>\n",
       "      <td>NaN</td>\n",
       "    </tr>\n",
       "  </tbody>\n",
       "</table>\n",
       "<p>3848316 rows × 22 columns</p>\n",
       "</div>"
      ],
      "text/plain": [
       "      BIOGUIDE_ID                   OFFICE QUARTER                CATEGORY  \\\n",
       "7597      A000014    HON. NEIL ABERCROMBIE  2010Q1            FRANKED MAIL   \n",
       "7598      A000014    HON. NEIL ABERCROMBIE  2010Q1            FRANKED MAIL   \n",
       "7599      A000014    HON. NEIL ABERCROMBIE  2010Q1  PERSONNEL COMPENSATION   \n",
       "7600      A000014    HON. NEIL ABERCROMBIE  2010Q1  PERSONNEL COMPENSATION   \n",
       "7601      A000014    HON. NEIL ABERCROMBIE  2010Q1  PERSONNEL COMPENSATION   \n",
       "...           ...                      ...     ...                     ...   \n",
       "92425     Z000017  2021 HON. LEE M. ZELDIN  2020Q3               EQUIPMENT   \n",
       "92426     Z000017  2021 HON. LEE M. ZELDIN  2020Q3  PERSONNEL COMPENSATION   \n",
       "92427     Z000017  2021 HON. LEE M. ZELDIN  2020Q3  PERSONNEL COMPENSATION   \n",
       "92428     Z000017  2021 HON. LEE M. ZELDIN  2020Q3  PERSONNEL COMPENSATION   \n",
       "92429     Z000017  2021 HON. LEE M. ZELDIN  2020Q3  PERSONNEL COMPENSATION   \n",
       "\n",
       "      DATE                                              PAYEE  START DATE  \\\n",
       "7597   NaN  02Â­22   O4 NW201000101        UNITED STATES P...    01/03/10   \n",
       "7598   NaN  03Â­25   O4 NW201000200        UNITED STATES P...    02/01/10   \n",
       "7599   NaN                                    ADAMS,LEE-ANN E    01/03/10   \n",
       "7600   NaN                                     ASSELBAYE, AMY    01/03/10   \n",
       "7601   NaN                                      CHAN,GLORIA S    02/01/10   \n",
       "...    ...                                                ...         ...   \n",
       "92425                                                                       \n",
       "92426                                      MCMAHON JORDANA A.  2021-07-01   \n",
       "92427                                                                       \n",
       "92428                                                                       \n",
       "92429                                                                       \n",
       "\n",
       "         END DATE                         PURPOSE     AMOUNT  ...  \\\n",
       "7597     01/31/10                    FRANKED MAIL     126.58  ...   \n",
       "7598     02/28/10                    FRANKED MAIL    1112.16  ...   \n",
       "7599     03/31/10                MILITARY LIAISON   21266.67  ...   \n",
       "7600     02/28/10                  CHIEF OF STAFF   21750.00  ...   \n",
       "7601     02/28/10                 SHARED EMPLOYEE    4500.00  ...   \n",
       "...           ...                             ...        ...  ...   \n",
       "92425                             OFFICE TOTALS:   317215.95  ...   \n",
       "92426  2021-07-14   DISTRICT OFFICE PAID INTERN -     777.78  ...   \n",
       "92427              PERSONNEL COMPENSATION TOTALS:     777.78  ...   \n",
       "92428                   INTERN ALLOWANCES TOTALS:     777.78  ...   \n",
       "92429                             OFFICE TOTALS:      777.78  ...   \n",
       "\n",
       "      TRANSCODELONG RECORDID  \\\n",
       "7597            NaN      NaN   \n",
       "7598            NaN      NaN   \n",
       "7599            NaN      NaN   \n",
       "7600            NaN      NaN   \n",
       "7601            NaN      NaN   \n",
       "...             ...      ...   \n",
       "92425           NaN            \n",
       "92426           NaN            \n",
       "92427           NaN            \n",
       "92428           NaN            \n",
       "92429           NaN            \n",
       "\n",
       "                                           RECIP (orig.)  \\\n",
       "7597   02Â­22   O4 NW201000101        UNITED STATES P...   \n",
       "7598   03Â­25   O4 NW201000200        UNITED STATES P...   \n",
       "7599                                     ADAMS,LEE-ANN E   \n",
       "7600                                      ASSELBAYE, AMY   \n",
       "7601                                       CHAN,GLORIA S   \n",
       "...                                                  ...   \n",
       "92425                                                NaN   \n",
       "92426                                                NaN   \n",
       "92427                                                NaN   \n",
       "92428                                                NaN   \n",
       "92429                                                NaN   \n",
       "\n",
       "                            PROGRAM                 SORT SEQUENCE  \\\n",
       "7597                            NaN                           NaN   \n",
       "7598                            NaN                           NaN   \n",
       "7599                            NaN                           NaN   \n",
       "7600                            NaN                           NaN   \n",
       "7601                            NaN                           NaN   \n",
       "...                             ...                           ...   \n",
       "92425  OFFICIAL EXPENSES OF MEMBERS  GRAND TOTAL FOR ORGANIZATION   \n",
       "92426             INTERN ALLOWANCES                        DETAIL   \n",
       "92427             INTERN ALLOWANCES                      SUBTOTAL   \n",
       "92428             INTERN ALLOWANCES                      SUBTOTAL   \n",
       "92429             INTERN ALLOWANCES  GRAND TOTAL FOR ORGANIZATION   \n",
       "\n",
       "      AMOUNT                                                                                                                                             \\\n",
       "7597                                                 NaN                                                                                                  \n",
       "7598                                                 NaN                                                                                                  \n",
       "7599                                                 NaN                                                                                                  \n",
       "7600                                                 NaN                                                                                                  \n",
       "7601                                                 NaN                                                                                                  \n",
       "...                                                  ...                                                                                                  \n",
       "92425                                                NaN                                                                                                  \n",
       "92426                                                NaN                                                                                                  \n",
       "92427                                                NaN                                                                                                  \n",
       "92428                                                NaN                                                                                                  \n",
       "92429                                                NaN                                                                                                  \n",
       "\n",
       "      TRANSACTION DATE  DATA SOURCE DOCUMENT  id  \n",
       "7597               NaN          NaN      NaN NaN  \n",
       "7598               NaN          NaN      NaN NaN  \n",
       "7599               NaN          NaN      NaN NaN  \n",
       "7600               NaN          NaN      NaN NaN  \n",
       "7601               NaN          NaN      NaN NaN  \n",
       "...                ...          ...      ...  ..  \n",
       "92425              NaN          NaN      NaN NaN  \n",
       "92426              NaN          NaN      NaN NaN  \n",
       "92427              NaN          NaN      NaN NaN  \n",
       "92428              NaN          NaN      NaN NaN  \n",
       "92429              NaN          NaN      NaN NaN  \n",
       "\n",
       "[3848316 rows x 22 columns]"
      ]
     },
     "execution_count": 114,
     "metadata": {},
     "output_type": "execute_result"
    }
   ],
   "source": [
    "import pandas as pd\n",
    "import matplotlib.pyplot as plt\n",
    "# just finna test with one of the files to see what happens\n",
    "frames = []\n",
    "\n",
    "# automate the dataframes from 2010 to 2020\n",
    "for i in range(2010, 2021):\n",
    "    for j in range(1, 5):\n",
    "        df = pd.read_csv('./house-expenditure/' + str(i) + 'Q' + str(j) +'-house-disburse-detail.csv', thousands=',', encoding = 'unicode_escape')\n",
    "        df.dropna(subset = ['BIOGUIDE_ID'], inplace=True)\n",
    "        if not {'CATEGORY'}.issubset(df.columns): # For whatever reason, 2018Q2 has its category column mislabeled. \n",
    "            df.rename(columns={\"SORT SUBTOTAL DESCRIPTION\" : \"CATEGORY\"}, inplace=True)\n",
    "        df[\"QUARTER\"] = str(i) + 'Q' + str(j)\n",
    "        frames.append(df)\n",
    "\n",
    "# for 2021, we need to handle the data separately because we only have 3 quarters of disclosures\n",
    "for j in range(1, 4):\n",
    "    df = pd.read_csv('./house-expenditure/2021Q' + str(j) +'-house-disburse-detail.csv', thousands=',', encoding = 'unicode_escape')\n",
    "    df.dropna(subset = ['BIOGUIDE_ID'], inplace=True)\n",
    "    if not {'CATEGORY'}.issubset(df.columns): # For whatever reason, 2018Q2 has its category column mislabeled. \n",
    "        df.rename(columns={\"SORT SUBTOTAL DESCRIPTION\" : \"CATEGORY\"}, inplace=True)\n",
    "    df[\"QUARTER\"] = str(i) + 'Q' + str(j)\n",
    "    frames.append(df)\n",
    "\n",
    "house_data = pd.concat(frames)\n",
    "house_data"
   ]
  },
  {
   "cell_type": "markdown",
   "metadata": {
    "id": "lRTnP-VPT8wN"
   },
   "source": [
    "Try to figure out what categories we are working with and how these categories should be group into broader categories"
   ]
  },
  {
   "cell_type": "code",
   "execution_count": 115,
   "metadata": {
    "colab": {
     "base_uri": "https://localhost:8080/"
    },
    "collapsed": true,
    "id": "uM4faq4vT8wO",
    "outputId": "dc11fb96-8e5a-4ce0-8f7d-66a606bb3dda"
   },
   "outputs": [
    {
     "data": {
      "text/plain": [
       "defaultdict(<function __main__.<lambda>()>,\n",
       "            {'FRANKED MAIL': 128370,\n",
       "             'PERSONNEL COMPENSATION': 539204,\n",
       "             'TRAVEL': 928273,\n",
       "             'RENT, COMMUNICATION, UTILITIES': 598709,\n",
       "             'PRINTING AND REPRODUCTION': 174619,\n",
       "             'OTHER SERVICES': 211271,\n",
       "             'SUPPLIES AND MATERIALS': 749782,\n",
       "             'EQUIPMENT': 144454,\n",
       "             'PERSONNEL BENEFITS': 122,\n",
       "             'TRANSPORTATION OF THINGS': 754,\n",
       "             'RENT COMMUNICATION UTILITIES': 18459,\n",
       "             'RENT  COMMUNICATION  UTILITIES': 354294,\n",
       "             'BENEFITS TO FORMER PERSONNEL': 5})"
      ]
     },
     "execution_count": 115,
     "metadata": {},
     "output_type": "execute_result"
    }
   ],
   "source": [
    "from collections import defaultdict\n",
    "categories = defaultdict(lambda: 0)\n",
    "def add_set(row):\n",
    "      categories[row['CATEGORY']] += 1\n",
    "\n",
    "#apply add_set to the house_data\n",
    "house_data.apply(add_set, axis = 1)\n",
    "categories"
   ]
  },
  {
   "cell_type": "code",
   "execution_count": 116,
   "metadata": {
    "collapsed": true
   },
   "outputs": [],
   "source": [
    "replace = {\n",
    "    'RENT  COMMUNICATION  UTILITIES': 'RENT, COMMUNICATION, UTILITIES',\n",
    "    'RENT COMMUNICATION UTILITIES': 'RENT, COMMUNICATION, UTILITIES'\n",
    "}\n",
    "house_data.replace(to_replace=replace, value=None, inplace=True)"
   ]
  },
  {
   "cell_type": "code",
   "execution_count": 117,
   "metadata": {
    "colab": {
     "base_uri": "https://localhost:8080/"
    },
    "collapsed": true,
    "id": "AIAnRl0zcVZH",
    "outputId": "031a655a-1065-428c-d276-e420f49e5d1f"
   },
   "outputs": [
    {
     "data": {
      "text/plain": [
       "defaultdict(<function __main__.<lambda>()>,\n",
       "            {'FRANKED MAIL': 128370,\n",
       "             'PERSONNEL COMPENSATION': 539204,\n",
       "             'TRAVEL': 928273,\n",
       "             'RENT, COMMUNICATION, UTILITIES': 971462,\n",
       "             'PRINTING AND REPRODUCTION': 174619,\n",
       "             'OTHER SERVICES': 211271,\n",
       "             'SUPPLIES AND MATERIALS': 749782,\n",
       "             'EQUIPMENT': 144454,\n",
       "             'PERSONNEL BENEFITS': 122,\n",
       "             'TRANSPORTATION OF THINGS': 754,\n",
       "             'BENEFITS TO FORMER PERSONNEL': 5})"
      ]
     },
     "execution_count": 117,
     "metadata": {},
     "output_type": "execute_result"
    }
   ],
   "source": [
    "categories = defaultdict(lambda: 0)\n",
    "def add_set(row):\n",
    "      categories[row['CATEGORY']] += 1\n",
    "      \n",
    "house_data.apply(add_set, axis = 1)\n",
    "categories"
   ]
  },
  {
   "cell_type": "markdown",
   "metadata": {},
   "source": [
    "### Harvard Dataverse U.S. House Elections Dataset\n",
    "We are using a dataset from the Harvard DataVerse which can be found [here](https://dataverse.harvard.edu/dataset.xhtml?persistentId=doi:10.7910/DVN/IG0UN2). This dataset details election returns for each of the representatives we are looking at."
   ]
  },
  {
   "cell_type": "code",
   "execution_count": 118,
   "metadata": {},
   "outputs": [
    {
     "data": {
      "text/html": [
       "<div>\n",
       "<style scoped>\n",
       "    .dataframe tbody tr th:only-of-type {\n",
       "        vertical-align: middle;\n",
       "    }\n",
       "\n",
       "    .dataframe tbody tr th {\n",
       "        vertical-align: top;\n",
       "    }\n",
       "\n",
       "    .dataframe thead th {\n",
       "        text-align: right;\n",
       "    }\n",
       "</style>\n",
       "<table border=\"1\" class=\"dataframe\">\n",
       "  <thead>\n",
       "    <tr style=\"text-align: right;\">\n",
       "      <th></th>\n",
       "      <th>year</th>\n",
       "      <th>state</th>\n",
       "      <th>state_po</th>\n",
       "      <th>state_fips</th>\n",
       "      <th>state_cen</th>\n",
       "      <th>state_ic</th>\n",
       "      <th>office</th>\n",
       "      <th>district</th>\n",
       "      <th>stage</th>\n",
       "      <th>runoff</th>\n",
       "      <th>special</th>\n",
       "      <th>candidate</th>\n",
       "      <th>party</th>\n",
       "      <th>writein</th>\n",
       "      <th>mode</th>\n",
       "      <th>candidatevotes</th>\n",
       "      <th>totalvotes</th>\n",
       "      <th>unofficial</th>\n",
       "      <th>version</th>\n",
       "      <th>fusion_ticket</th>\n",
       "    </tr>\n",
       "  </thead>\n",
       "  <tbody>\n",
       "    <tr>\n",
       "      <th>22553</th>\n",
       "      <td>2010</td>\n",
       "      <td>ALABAMA</td>\n",
       "      <td>AL</td>\n",
       "      <td>1</td>\n",
       "      <td>63</td>\n",
       "      <td>41</td>\n",
       "      <td>US HOUSE</td>\n",
       "      <td>1</td>\n",
       "      <td>GEN</td>\n",
       "      <td>NaN</td>\n",
       "      <td>False</td>\n",
       "      <td>DAVID WALTER</td>\n",
       "      <td>CONSTITUTION</td>\n",
       "      <td>False</td>\n",
       "      <td>TOTAL</td>\n",
       "      <td>26357</td>\n",
       "      <td>156281</td>\n",
       "      <td>False</td>\n",
       "      <td>20220331</td>\n",
       "      <td>False</td>\n",
       "    </tr>\n",
       "    <tr>\n",
       "      <th>22554</th>\n",
       "      <td>2010</td>\n",
       "      <td>ALABAMA</td>\n",
       "      <td>AL</td>\n",
       "      <td>1</td>\n",
       "      <td>63</td>\n",
       "      <td>41</td>\n",
       "      <td>US HOUSE</td>\n",
       "      <td>1</td>\n",
       "      <td>GEN</td>\n",
       "      <td>NaN</td>\n",
       "      <td>False</td>\n",
       "      <td>JO BONNER</td>\n",
       "      <td>REPUBLICAN</td>\n",
       "      <td>False</td>\n",
       "      <td>TOTAL</td>\n",
       "      <td>129063</td>\n",
       "      <td>156281</td>\n",
       "      <td>False</td>\n",
       "      <td>20220331</td>\n",
       "      <td>False</td>\n",
       "    </tr>\n",
       "    <tr>\n",
       "      <th>22555</th>\n",
       "      <td>2010</td>\n",
       "      <td>ALABAMA</td>\n",
       "      <td>AL</td>\n",
       "      <td>1</td>\n",
       "      <td>63</td>\n",
       "      <td>41</td>\n",
       "      <td>US HOUSE</td>\n",
       "      <td>1</td>\n",
       "      <td>GEN</td>\n",
       "      <td>NaN</td>\n",
       "      <td>False</td>\n",
       "      <td>WRITEIN</td>\n",
       "      <td>NaN</td>\n",
       "      <td>True</td>\n",
       "      <td>TOTAL</td>\n",
       "      <td>861</td>\n",
       "      <td>156281</td>\n",
       "      <td>False</td>\n",
       "      <td>20220331</td>\n",
       "      <td>False</td>\n",
       "    </tr>\n",
       "    <tr>\n",
       "      <th>22556</th>\n",
       "      <td>2010</td>\n",
       "      <td>ALABAMA</td>\n",
       "      <td>AL</td>\n",
       "      <td>1</td>\n",
       "      <td>63</td>\n",
       "      <td>41</td>\n",
       "      <td>US HOUSE</td>\n",
       "      <td>2</td>\n",
       "      <td>GEN</td>\n",
       "      <td>NaN</td>\n",
       "      <td>False</td>\n",
       "      <td>BOBBY BRIGHT</td>\n",
       "      <td>DEMOCRAT</td>\n",
       "      <td>False</td>\n",
       "      <td>TOTAL</td>\n",
       "      <td>106865</td>\n",
       "      <td>219028</td>\n",
       "      <td>False</td>\n",
       "      <td>20220331</td>\n",
       "      <td>False</td>\n",
       "    </tr>\n",
       "    <tr>\n",
       "      <th>22557</th>\n",
       "      <td>2010</td>\n",
       "      <td>ALABAMA</td>\n",
       "      <td>AL</td>\n",
       "      <td>1</td>\n",
       "      <td>63</td>\n",
       "      <td>41</td>\n",
       "      <td>US HOUSE</td>\n",
       "      <td>2</td>\n",
       "      <td>GEN</td>\n",
       "      <td>NaN</td>\n",
       "      <td>False</td>\n",
       "      <td>MARTHA ROBY</td>\n",
       "      <td>REPUBLICAN</td>\n",
       "      <td>False</td>\n",
       "      <td>TOTAL</td>\n",
       "      <td>111645</td>\n",
       "      <td>219028</td>\n",
       "      <td>False</td>\n",
       "      <td>20220331</td>\n",
       "      <td>False</td>\n",
       "    </tr>\n",
       "    <tr>\n",
       "      <th>...</th>\n",
       "      <td>...</td>\n",
       "      <td>...</td>\n",
       "      <td>...</td>\n",
       "      <td>...</td>\n",
       "      <td>...</td>\n",
       "      <td>...</td>\n",
       "      <td>...</td>\n",
       "      <td>...</td>\n",
       "      <td>...</td>\n",
       "      <td>...</td>\n",
       "      <td>...</td>\n",
       "      <td>...</td>\n",
       "      <td>...</td>\n",
       "      <td>...</td>\n",
       "      <td>...</td>\n",
       "      <td>...</td>\n",
       "      <td>...</td>\n",
       "      <td>...</td>\n",
       "      <td>...</td>\n",
       "      <td>...</td>\n",
       "    </tr>\n",
       "    <tr>\n",
       "      <th>31098</th>\n",
       "      <td>2020</td>\n",
       "      <td>WYOMING</td>\n",
       "      <td>WY</td>\n",
       "      <td>56</td>\n",
       "      <td>83</td>\n",
       "      <td>68</td>\n",
       "      <td>US HOUSE</td>\n",
       "      <td>0</td>\n",
       "      <td>GEN</td>\n",
       "      <td>False</td>\n",
       "      <td>False</td>\n",
       "      <td>LYNNETTE GREY BULL</td>\n",
       "      <td>DEMOCRAT</td>\n",
       "      <td>False</td>\n",
       "      <td>TOTAL</td>\n",
       "      <td>66576</td>\n",
       "      <td>278503</td>\n",
       "      <td>False</td>\n",
       "      <td>20220331</td>\n",
       "      <td>False</td>\n",
       "    </tr>\n",
       "    <tr>\n",
       "      <th>31099</th>\n",
       "      <td>2020</td>\n",
       "      <td>WYOMING</td>\n",
       "      <td>WY</td>\n",
       "      <td>56</td>\n",
       "      <td>83</td>\n",
       "      <td>68</td>\n",
       "      <td>US HOUSE</td>\n",
       "      <td>0</td>\n",
       "      <td>GEN</td>\n",
       "      <td>False</td>\n",
       "      <td>False</td>\n",
       "      <td>OVERVOTES</td>\n",
       "      <td>NaN</td>\n",
       "      <td>False</td>\n",
       "      <td>TOTAL</td>\n",
       "      <td>1274</td>\n",
       "      <td>278503</td>\n",
       "      <td>False</td>\n",
       "      <td>20220331</td>\n",
       "      <td>False</td>\n",
       "    </tr>\n",
       "    <tr>\n",
       "      <th>31100</th>\n",
       "      <td>2020</td>\n",
       "      <td>WYOMING</td>\n",
       "      <td>WY</td>\n",
       "      <td>56</td>\n",
       "      <td>83</td>\n",
       "      <td>68</td>\n",
       "      <td>US HOUSE</td>\n",
       "      <td>0</td>\n",
       "      <td>GEN</td>\n",
       "      <td>False</td>\n",
       "      <td>False</td>\n",
       "      <td>RICHARD BRUBAKER</td>\n",
       "      <td>LIBERTARIAN</td>\n",
       "      <td>False</td>\n",
       "      <td>TOTAL</td>\n",
       "      <td>10154</td>\n",
       "      <td>278503</td>\n",
       "      <td>False</td>\n",
       "      <td>20220331</td>\n",
       "      <td>False</td>\n",
       "    </tr>\n",
       "    <tr>\n",
       "      <th>31101</th>\n",
       "      <td>2020</td>\n",
       "      <td>WYOMING</td>\n",
       "      <td>WY</td>\n",
       "      <td>56</td>\n",
       "      <td>83</td>\n",
       "      <td>68</td>\n",
       "      <td>US HOUSE</td>\n",
       "      <td>0</td>\n",
       "      <td>GEN</td>\n",
       "      <td>False</td>\n",
       "      <td>False</td>\n",
       "      <td>UNDERVOTES</td>\n",
       "      <td>NaN</td>\n",
       "      <td>False</td>\n",
       "      <td>TOTAL</td>\n",
       "      <td>6337</td>\n",
       "      <td>278503</td>\n",
       "      <td>False</td>\n",
       "      <td>20220331</td>\n",
       "      <td>False</td>\n",
       "    </tr>\n",
       "    <tr>\n",
       "      <th>31102</th>\n",
       "      <td>2020</td>\n",
       "      <td>WYOMING</td>\n",
       "      <td>WY</td>\n",
       "      <td>56</td>\n",
       "      <td>83</td>\n",
       "      <td>68</td>\n",
       "      <td>US HOUSE</td>\n",
       "      <td>0</td>\n",
       "      <td>GEN</td>\n",
       "      <td>False</td>\n",
       "      <td>False</td>\n",
       "      <td>WRITEIN</td>\n",
       "      <td>NaN</td>\n",
       "      <td>True</td>\n",
       "      <td>TOTAL</td>\n",
       "      <td>525</td>\n",
       "      <td>278503</td>\n",
       "      <td>False</td>\n",
       "      <td>20220331</td>\n",
       "      <td>False</td>\n",
       "    </tr>\n",
       "  </tbody>\n",
       "</table>\n",
       "<p>8550 rows × 20 columns</p>\n",
       "</div>"
      ],
      "text/plain": [
       "       year    state state_po  state_fips  state_cen  state_ic    office  \\\n",
       "22553  2010  ALABAMA       AL           1         63        41  US HOUSE   \n",
       "22554  2010  ALABAMA       AL           1         63        41  US HOUSE   \n",
       "22555  2010  ALABAMA       AL           1         63        41  US HOUSE   \n",
       "22556  2010  ALABAMA       AL           1         63        41  US HOUSE   \n",
       "22557  2010  ALABAMA       AL           1         63        41  US HOUSE   \n",
       "...     ...      ...      ...         ...        ...       ...       ...   \n",
       "31098  2020  WYOMING       WY          56         83        68  US HOUSE   \n",
       "31099  2020  WYOMING       WY          56         83        68  US HOUSE   \n",
       "31100  2020  WYOMING       WY          56         83        68  US HOUSE   \n",
       "31101  2020  WYOMING       WY          56         83        68  US HOUSE   \n",
       "31102  2020  WYOMING       WY          56         83        68  US HOUSE   \n",
       "\n",
       "       district stage runoff  special           candidate         party  \\\n",
       "22553         1   GEN    NaN    False        DAVID WALTER  CONSTITUTION   \n",
       "22554         1   GEN    NaN    False           JO BONNER    REPUBLICAN   \n",
       "22555         1   GEN    NaN    False             WRITEIN           NaN   \n",
       "22556         2   GEN    NaN    False        BOBBY BRIGHT      DEMOCRAT   \n",
       "22557         2   GEN    NaN    False         MARTHA ROBY    REPUBLICAN   \n",
       "...         ...   ...    ...      ...                 ...           ...   \n",
       "31098         0   GEN  False    False  LYNNETTE GREY BULL      DEMOCRAT   \n",
       "31099         0   GEN  False    False           OVERVOTES           NaN   \n",
       "31100         0   GEN  False    False    RICHARD BRUBAKER   LIBERTARIAN   \n",
       "31101         0   GEN  False    False          UNDERVOTES           NaN   \n",
       "31102         0   GEN  False    False             WRITEIN           NaN   \n",
       "\n",
       "       writein   mode  candidatevotes  totalvotes  unofficial   version  \\\n",
       "22553    False  TOTAL           26357      156281       False  20220331   \n",
       "22554    False  TOTAL          129063      156281       False  20220331   \n",
       "22555     True  TOTAL             861      156281       False  20220331   \n",
       "22556    False  TOTAL          106865      219028       False  20220331   \n",
       "22557    False  TOTAL          111645      219028       False  20220331   \n",
       "...        ...    ...             ...         ...         ...       ...   \n",
       "31098    False  TOTAL           66576      278503       False  20220331   \n",
       "31099    False  TOTAL            1274      278503       False  20220331   \n",
       "31100    False  TOTAL           10154      278503       False  20220331   \n",
       "31101    False  TOTAL            6337      278503       False  20220331   \n",
       "31102     True  TOTAL             525      278503       False  20220331   \n",
       "\n",
       "       fusion_ticket  \n",
       "22553          False  \n",
       "22554          False  \n",
       "22555          False  \n",
       "22556          False  \n",
       "22557          False  \n",
       "...              ...  \n",
       "31098          False  \n",
       "31099          False  \n",
       "31100          False  \n",
       "31101          False  \n",
       "31102          False  \n",
       "\n",
       "[8550 rows x 20 columns]"
      ]
     },
     "execution_count": 118,
     "metadata": {},
     "output_type": "execute_result"
    }
   ],
   "source": [
    "election_data = pd.read_csv('./house-expenditure/1976-2020-house.csv')\n",
    "\n",
    "# filter out the years before 2009 and after 2018\n",
    "election_data = election_data[election_data['year'] >= 2009]\n",
    "election_data = election_data[election_data['year'] <= 2020]\n",
    "\n",
    "election_data"
   ]
  },
  {
   "cell_type": "markdown",
   "metadata": {},
   "source": [
    "### Congress Bioguide IDs\n",
    "\n",
    "It turns out that Congress helpfully assigns each member of the House a unique ID based on the first initial of their last name, followed by a number. Since this is a unique identifier, that makes a lot of the pre-processing a lot easier. Here, we can scrape the congressional webpage with each past and current member's bioguide ID and add it to our dataframe. The data is formatted as an HTML table, which makes the processing very simple, but we need to use some regular expressions to separate each member's first and last name. "
   ]
  },
  {
   "cell_type": "code",
   "execution_count": 119,
   "metadata": {
    "collapsed": true
   },
   "outputs": [
    {
     "data": {
      "text/html": [
       "<div>\n",
       "<style scoped>\n",
       "    .dataframe tbody tr th:only-of-type {\n",
       "        vertical-align: middle;\n",
       "    }\n",
       "\n",
       "    .dataframe tbody tr th {\n",
       "        vertical-align: top;\n",
       "    }\n",
       "\n",
       "    .dataframe thead th {\n",
       "        text-align: right;\n",
       "    }\n",
       "</style>\n",
       "<table border=\"1\" class=\"dataframe\">\n",
       "  <thead>\n",
       "    <tr style=\"text-align: right;\">\n",
       "      <th></th>\n",
       "      <th>LASTNAME</th>\n",
       "      <th>FIRSTNAME</th>\n",
       "      <th>PARTY</th>\n",
       "      <th>STATE</th>\n",
       "      <th>BIOGUIDE_ID</th>\n",
       "    </tr>\n",
       "  </thead>\n",
       "  <tbody>\n",
       "    <tr>\n",
       "      <th>0</th>\n",
       "      <td>Abdnor</td>\n",
       "      <td>James</td>\n",
       "      <td>Republican</td>\n",
       "      <td>South Dakota</td>\n",
       "      <td>A000009</td>\n",
       "    </tr>\n",
       "    <tr>\n",
       "      <th>1</th>\n",
       "      <td>Abercrombie</td>\n",
       "      <td>Neil</td>\n",
       "      <td>Democratic</td>\n",
       "      <td>Hawaii</td>\n",
       "      <td>A000014</td>\n",
       "    </tr>\n",
       "    <tr>\n",
       "      <th>2</th>\n",
       "      <td>Abourezk</td>\n",
       "      <td>James</td>\n",
       "      <td>Democratic</td>\n",
       "      <td>South Dakota</td>\n",
       "      <td>A000017</td>\n",
       "    </tr>\n",
       "    <tr>\n",
       "      <th>3</th>\n",
       "      <td>Abraham</td>\n",
       "      <td>Ralph Lee</td>\n",
       "      <td>Republican</td>\n",
       "      <td>Louisiana</td>\n",
       "      <td>A000374</td>\n",
       "    </tr>\n",
       "    <tr>\n",
       "      <th>4</th>\n",
       "      <td>Abraham</td>\n",
       "      <td>Spencer</td>\n",
       "      <td>Republican</td>\n",
       "      <td>Michigan</td>\n",
       "      <td>A000355</td>\n",
       "    </tr>\n",
       "    <tr>\n",
       "      <th>...</th>\n",
       "      <td>...</td>\n",
       "      <td>...</td>\n",
       "      <td>...</td>\n",
       "      <td>...</td>\n",
       "      <td>...</td>\n",
       "    </tr>\n",
       "    <tr>\n",
       "      <th>2422</th>\n",
       "      <td>Zinke</td>\n",
       "      <td>Ryan K.</td>\n",
       "      <td>Republican</td>\n",
       "      <td>Montana</td>\n",
       "      <td>Z000018</td>\n",
       "    </tr>\n",
       "    <tr>\n",
       "      <th>2423</th>\n",
       "      <td>Zion</td>\n",
       "      <td>Roger H.</td>\n",
       "      <td>Republican</td>\n",
       "      <td>Indiana</td>\n",
       "      <td>Z000010</td>\n",
       "    </tr>\n",
       "    <tr>\n",
       "      <th>2424</th>\n",
       "      <td>Zorinsky</td>\n",
       "      <td>Edward</td>\n",
       "      <td>Democratic</td>\n",
       "      <td>Nebraska</td>\n",
       "      <td>Z000013</td>\n",
       "    </tr>\n",
       "    <tr>\n",
       "      <th>2425</th>\n",
       "      <td>Zschau</td>\n",
       "      <td>Edwin V. W.</td>\n",
       "      <td>Republican</td>\n",
       "      <td>California</td>\n",
       "      <td>Z000014</td>\n",
       "    </tr>\n",
       "    <tr>\n",
       "      <th>2426</th>\n",
       "      <td>Zwach</td>\n",
       "      <td>John M.</td>\n",
       "      <td>Republican</td>\n",
       "      <td>Minnesota</td>\n",
       "      <td>Z000016</td>\n",
       "    </tr>\n",
       "  </tbody>\n",
       "</table>\n",
       "<p>2427 rows × 5 columns</p>\n",
       "</div>"
      ],
      "text/plain": [
       "         LASTNAME    FIRSTNAME       PARTY         STATE BIOGUIDE_ID\n",
       "0          Abdnor        James  Republican  South Dakota     A000009\n",
       "1     Abercrombie         Neil  Democratic        Hawaii     A000014\n",
       "2        Abourezk        James  Democratic  South Dakota     A000017\n",
       "3         Abraham    Ralph Lee  Republican     Louisiana     A000374\n",
       "4         Abraham      Spencer  Republican      Michigan     A000355\n",
       "...           ...          ...         ...           ...         ...\n",
       "2422        Zinke      Ryan K.  Republican       Montana     Z000018\n",
       "2423         Zion     Roger H.  Republican       Indiana     Z000010\n",
       "2424     Zorinsky       Edward  Democratic      Nebraska     Z000013\n",
       "2425       Zschau  Edwin V. W.  Republican    California     Z000014\n",
       "2426        Zwach      John M.  Republican     Minnesota     Z000016\n",
       "\n",
       "[2427 rows x 5 columns]"
      ]
     },
     "execution_count": 119,
     "metadata": {},
     "output_type": "execute_result"
    }
   ],
   "source": [
    "import requests\n",
    "from bs4 import BeautifulSoup\n",
    "raw = requests.get(\"https://www.congress.gov/help/field-values/member-bioguide-ids\")\n",
    "soup = BeautifulSoup(raw.text, 'lxml')\n",
    "table = soup.find('table')\n",
    "\n",
    "# Since the entire thing is a formatted table, read it directly into a pandas dataframe\n",
    "tabledf = pd.read_html(str(table))\n",
    "tabledf = tabledf[0]\n",
    "tabledf.dropna(subset = ['Member'], inplace=True)\n",
    "tabledf.reset_index(drop=True, inplace=True)\n",
    "members = tabledf['Member'].str.extractall(\"(.*), (.*) \\((.*) - (.*)\\)\")\n",
    "\n",
    "members.reset_index(drop=True, inplace=True)\n",
    "members.rename(columns={0 : 'LASTNAME', 1: \"FIRSTNAME\", 2: \"PARTY\", 3: \"STATE\"}, inplace=True)\n",
    "members['BIOGUIDE_ID'] = tabledf['Member ID']\n",
    "members"
   ]
  },
  {
   "cell_type": "markdown",
   "metadata": {},
   "source": [
    "## Terms served\n",
    "\n",
    "Unfortunately, the election returns do not include the number of terms served by each member of the house. While this would be possible to calculate, factoring in resignations and other special circumstances makes this a difficult task. To make things easier, we can use a small JSON dataset of the number of terms served by each member of the house. "
   ]
  },
  {
   "cell_type": "code",
   "execution_count": 120,
   "metadata": {
    "collapsed": true
   },
   "outputs": [
    {
     "data": {
      "text/html": [
       "<div>\n",
       "<style scoped>\n",
       "    .dataframe tbody tr th:only-of-type {\n",
       "        vertical-align: middle;\n",
       "    }\n",
       "\n",
       "    .dataframe tbody tr th {\n",
       "        vertical-align: top;\n",
       "    }\n",
       "\n",
       "    .dataframe thead th {\n",
       "        text-align: right;\n",
       "    }\n",
       "</style>\n",
       "<table border=\"1\" class=\"dataframe\">\n",
       "  <thead>\n",
       "    <tr style=\"text-align: right;\">\n",
       "      <th></th>\n",
       "      <th>BIOGUIDE_ID</th>\n",
       "      <th>TERMS</th>\n",
       "    </tr>\n",
       "  </thead>\n",
       "  <tbody>\n",
       "    <tr>\n",
       "      <th>0</th>\n",
       "      <td>B000944</td>\n",
       "      <td>10</td>\n",
       "    </tr>\n",
       "    <tr>\n",
       "      <th>1</th>\n",
       "      <td>C000127</td>\n",
       "      <td>5</td>\n",
       "    </tr>\n",
       "    <tr>\n",
       "      <th>2</th>\n",
       "      <td>C000141</td>\n",
       "      <td>13</td>\n",
       "    </tr>\n",
       "    <tr>\n",
       "      <th>3</th>\n",
       "      <td>C000174</td>\n",
       "      <td>9</td>\n",
       "    </tr>\n",
       "    <tr>\n",
       "      <th>4</th>\n",
       "      <td>C001070</td>\n",
       "      <td>3</td>\n",
       "    </tr>\n",
       "    <tr>\n",
       "      <th>...</th>\n",
       "      <td>...</td>\n",
       "      <td>...</td>\n",
       "    </tr>\n",
       "    <tr>\n",
       "      <th>12585</th>\n",
       "      <td>H001088</td>\n",
       "      <td>2</td>\n",
       "    </tr>\n",
       "    <tr>\n",
       "      <th>12586</th>\n",
       "      <td>Y000033</td>\n",
       "      <td>25</td>\n",
       "    </tr>\n",
       "    <tr>\n",
       "      <th>12587</th>\n",
       "      <td>F000449</td>\n",
       "      <td>9</td>\n",
       "    </tr>\n",
       "    <tr>\n",
       "      <th>12588</th>\n",
       "      <td>V000132</td>\n",
       "      <td>5</td>\n",
       "    </tr>\n",
       "    <tr>\n",
       "      <th>12589</th>\n",
       "      <td>R000585</td>\n",
       "      <td>7</td>\n",
       "    </tr>\n",
       "  </tbody>\n",
       "</table>\n",
       "<p>12590 rows × 2 columns</p>\n",
       "</div>"
      ],
      "text/plain": [
       "      BIOGUIDE_ID  TERMS\n",
       "0         B000944     10\n",
       "1         C000127      5\n",
       "2         C000141     13\n",
       "3         C000174      9\n",
       "4         C001070      3\n",
       "...           ...    ...\n",
       "12585     H001088      2\n",
       "12586     Y000033     25\n",
       "12587     F000449      9\n",
       "12588     V000132      5\n",
       "12589     R000585      7\n",
       "\n",
       "[12590 rows x 2 columns]"
      ]
     },
     "execution_count": 120,
     "metadata": {},
     "output_type": "execute_result"
    }
   ],
   "source": [
    "import datetime\n",
    "\n",
    "term_data = []\n",
    "column_names = ['BIOGUIDE_ID','TERMS']\n",
    "\n",
    "for url in ['https://theunitedstates.io/congress-legislators/legislators-current.json','https://theunitedstates.io/congress-legislators/legislators-historical.json']:\n",
    "    r = requests.get(url)\n",
    "    json_data = r.json()\n",
    "\n",
    "    for json_el in json_data:\n",
    "        number_of_terms = 0\n",
    "        for term in json_el['terms']:\n",
    "            start_date = datetime.datetime.strptime(term['start'], '%Y-%m-%d')\n",
    "            # Make sure we are not looking at terms served after the period we are analysing\n",
    "            if start_date.year < 2020:\n",
    "                number_of_terms += 1\n",
    "        term_data.append([json_el['id']['bioguide'], len(json_el['terms'])])\n",
    "\n",
    "us_io_data = pd.DataFrame(term_data, columns=column_names)\n",
    "us_io_data"
   ]
  },
  {
   "cell_type": "markdown",
   "metadata": {},
   "source": [
    "### General K-NN Pre-processing\n",
    "We aim to build 3 separate K-NN models to test 3 separate hypothesis. Before we delve into the specifics for each model we are doing some general preprocessing that will be useful for all 3 models. Firstly we are building a dataframe to represent a candidate's spending in a given quarter in a single row. We will do this by making a column for each spending category and listing the total amount spend for that category in a given quarter. This will essentially make each row a vector representing one quarter for one candidate."
   ]
  },
  {
   "cell_type": "code",
   "execution_count": 121,
   "metadata": {
    "collapsed": true
   },
   "outputs": [
    {
     "data": {
      "text/html": [
       "<div>\n",
       "<style scoped>\n",
       "    .dataframe tbody tr th:only-of-type {\n",
       "        vertical-align: middle;\n",
       "    }\n",
       "\n",
       "    .dataframe tbody tr th {\n",
       "        vertical-align: top;\n",
       "    }\n",
       "\n",
       "    .dataframe thead th {\n",
       "        text-align: right;\n",
       "    }\n",
       "</style>\n",
       "<table border=\"1\" class=\"dataframe\">\n",
       "  <thead>\n",
       "    <tr style=\"text-align: right;\">\n",
       "      <th></th>\n",
       "      <th>BIOGUIDE_ID</th>\n",
       "      <th>FRANKED MAIL</th>\n",
       "      <th>PERSONNEL COMPENSATION</th>\n",
       "      <th>TRAVEL</th>\n",
       "      <th>RENT, COMMUNICATION, UTILITIES</th>\n",
       "      <th>PRINTING AND REPRODUCTION</th>\n",
       "      <th>OTHER SERVICES</th>\n",
       "      <th>SUPPLIES AND MATERIALS</th>\n",
       "      <th>EQUIPMENT</th>\n",
       "      <th>PERSONNEL BENEFITS</th>\n",
       "      <th>TRANSPORTATION OF THINGS</th>\n",
       "      <th>BENEFITS TO FORMER PERSONNEL</th>\n",
       "    </tr>\n",
       "  </thead>\n",
       "  <tbody>\n",
       "    <tr>\n",
       "      <th>0</th>\n",
       "      <td>A000014</td>\n",
       "      <td>1498.61</td>\n",
       "      <td>259540.31</td>\n",
       "      <td>10891.59</td>\n",
       "      <td>21084.39</td>\n",
       "      <td>43.90</td>\n",
       "      <td>8348.02</td>\n",
       "      <td>4661.75</td>\n",
       "      <td>981.30</td>\n",
       "      <td>0.0</td>\n",
       "      <td>0.0</td>\n",
       "      <td>0.0</td>\n",
       "    </tr>\n",
       "    <tr>\n",
       "      <th>1</th>\n",
       "      <td>A000022</td>\n",
       "      <td>21011.90</td>\n",
       "      <td>242972.84</td>\n",
       "      <td>3655.22</td>\n",
       "      <td>33422.01</td>\n",
       "      <td>9794.18</td>\n",
       "      <td>21341.00</td>\n",
       "      <td>17776.34</td>\n",
       "      <td>2033.33</td>\n",
       "      <td>0.0</td>\n",
       "      <td>0.0</td>\n",
       "      <td>0.0</td>\n",
       "    </tr>\n",
       "    <tr>\n",
       "      <th>2</th>\n",
       "      <td>A000055</td>\n",
       "      <td>1671.92</td>\n",
       "      <td>264937.16</td>\n",
       "      <td>10360.45</td>\n",
       "      <td>19145.14</td>\n",
       "      <td>2130.92</td>\n",
       "      <td>11644.95</td>\n",
       "      <td>8005.85</td>\n",
       "      <td>601.50</td>\n",
       "      <td>0.0</td>\n",
       "      <td>0.0</td>\n",
       "      <td>0.0</td>\n",
       "    </tr>\n",
       "    <tr>\n",
       "      <th>3</th>\n",
       "      <td>A000364</td>\n",
       "      <td>85906.29</td>\n",
       "      <td>199660.40</td>\n",
       "      <td>7925.65</td>\n",
       "      <td>27119.41</td>\n",
       "      <td>75410.20</td>\n",
       "      <td>30479.70</td>\n",
       "      <td>6095.27</td>\n",
       "      <td>3894.33</td>\n",
       "      <td>0.0</td>\n",
       "      <td>0.0</td>\n",
       "      <td>0.0</td>\n",
       "    </tr>\n",
       "    <tr>\n",
       "      <th>4</th>\n",
       "      <td>A000358</td>\n",
       "      <td>40746.81</td>\n",
       "      <td>259704.20</td>\n",
       "      <td>6721.87</td>\n",
       "      <td>24703.34</td>\n",
       "      <td>45627.10</td>\n",
       "      <td>12367.41</td>\n",
       "      <td>6997.48</td>\n",
       "      <td>3610.12</td>\n",
       "      <td>0.0</td>\n",
       "      <td>0.0</td>\n",
       "      <td>0.0</td>\n",
       "    </tr>\n",
       "    <tr>\n",
       "      <th>...</th>\n",
       "      <td>...</td>\n",
       "      <td>...</td>\n",
       "      <td>...</td>\n",
       "      <td>...</td>\n",
       "      <td>...</td>\n",
       "      <td>...</td>\n",
       "      <td>...</td>\n",
       "      <td>...</td>\n",
       "      <td>...</td>\n",
       "      <td>...</td>\n",
       "      <td>...</td>\n",
       "      <td>...</td>\n",
       "    </tr>\n",
       "    <tr>\n",
       "      <th>20715</th>\n",
       "      <td>W000827</td>\n",
       "      <td>-48.90</td>\n",
       "      <td>343750.00</td>\n",
       "      <td>3554.82</td>\n",
       "      <td>63428.86</td>\n",
       "      <td>612.92</td>\n",
       "      <td>20806.60</td>\n",
       "      <td>330.84</td>\n",
       "      <td>385771.82</td>\n",
       "      <td>0.0</td>\n",
       "      <td>0.0</td>\n",
       "      <td>0.0</td>\n",
       "    </tr>\n",
       "    <tr>\n",
       "      <th>20716</th>\n",
       "      <td>Y000062</td>\n",
       "      <td>279.42</td>\n",
       "      <td>554398.70</td>\n",
       "      <td>3576.12</td>\n",
       "      <td>112862.60</td>\n",
       "      <td>38.00</td>\n",
       "      <td>6924.42</td>\n",
       "      <td>30705.18</td>\n",
       "      <td>568213.36</td>\n",
       "      <td>0.0</td>\n",
       "      <td>0.0</td>\n",
       "      <td>0.0</td>\n",
       "    </tr>\n",
       "    <tr>\n",
       "      <th>20717</th>\n",
       "      <td>Y000065</td>\n",
       "      <td>740.14</td>\n",
       "      <td>702125.06</td>\n",
       "      <td>4916.98</td>\n",
       "      <td>37383.60</td>\n",
       "      <td>800.00</td>\n",
       "      <td>3151.28</td>\n",
       "      <td>4912.34</td>\n",
       "      <td>822292.96</td>\n",
       "      <td>0.0</td>\n",
       "      <td>0.0</td>\n",
       "      <td>0.0</td>\n",
       "    </tr>\n",
       "    <tr>\n",
       "      <th>20718</th>\n",
       "      <td>Y000033</td>\n",
       "      <td>105.16</td>\n",
       "      <td>764444.52</td>\n",
       "      <td>55760.86</td>\n",
       "      <td>42935.26</td>\n",
       "      <td>79.90</td>\n",
       "      <td>37800.00</td>\n",
       "      <td>3949.54</td>\n",
       "      <td>915982.56</td>\n",
       "      <td>0.0</td>\n",
       "      <td>0.0</td>\n",
       "      <td>0.0</td>\n",
       "    </tr>\n",
       "    <tr>\n",
       "      <th>20719</th>\n",
       "      <td>Z000017</td>\n",
       "      <td>-38.34</td>\n",
       "      <td>628872.26</td>\n",
       "      <td>8149.78</td>\n",
       "      <td>50586.02</td>\n",
       "      <td>10858.32</td>\n",
       "      <td>26734.00</td>\n",
       "      <td>3112.72</td>\n",
       "      <td>697700.68</td>\n",
       "      <td>0.0</td>\n",
       "      <td>0.0</td>\n",
       "      <td>0.0</td>\n",
       "    </tr>\n",
       "  </tbody>\n",
       "</table>\n",
       "<p>20720 rows × 12 columns</p>\n",
       "</div>"
      ],
      "text/plain": [
       "      BIOGUIDE_ID  FRANKED MAIL  PERSONNEL COMPENSATION    TRAVEL  \\\n",
       "0         A000014       1498.61               259540.31  10891.59   \n",
       "1         A000022      21011.90               242972.84   3655.22   \n",
       "2         A000055       1671.92               264937.16  10360.45   \n",
       "3         A000364      85906.29               199660.40   7925.65   \n",
       "4         A000358      40746.81               259704.20   6721.87   \n",
       "...           ...           ...                     ...       ...   \n",
       "20715     W000827        -48.90               343750.00   3554.82   \n",
       "20716     Y000062        279.42               554398.70   3576.12   \n",
       "20717     Y000065        740.14               702125.06   4916.98   \n",
       "20718     Y000033        105.16               764444.52  55760.86   \n",
       "20719     Z000017        -38.34               628872.26   8149.78   \n",
       "\n",
       "       RENT, COMMUNICATION, UTILITIES  PRINTING AND REPRODUCTION  \\\n",
       "0                            21084.39                      43.90   \n",
       "1                            33422.01                    9794.18   \n",
       "2                            19145.14                    2130.92   \n",
       "3                            27119.41                   75410.20   \n",
       "4                            24703.34                   45627.10   \n",
       "...                               ...                        ...   \n",
       "20715                        63428.86                     612.92   \n",
       "20716                       112862.60                      38.00   \n",
       "20717                        37383.60                     800.00   \n",
       "20718                        42935.26                      79.90   \n",
       "20719                        50586.02                   10858.32   \n",
       "\n",
       "       OTHER SERVICES  SUPPLIES AND MATERIALS  EQUIPMENT  PERSONNEL BENEFITS  \\\n",
       "0             8348.02                 4661.75     981.30                 0.0   \n",
       "1            21341.00                17776.34    2033.33                 0.0   \n",
       "2            11644.95                 8005.85     601.50                 0.0   \n",
       "3            30479.70                 6095.27    3894.33                 0.0   \n",
       "4            12367.41                 6997.48    3610.12                 0.0   \n",
       "...               ...                     ...        ...                 ...   \n",
       "20715        20806.60                  330.84  385771.82                 0.0   \n",
       "20716         6924.42                30705.18  568213.36                 0.0   \n",
       "20717         3151.28                 4912.34  822292.96                 0.0   \n",
       "20718        37800.00                 3949.54  915982.56                 0.0   \n",
       "20719        26734.00                 3112.72  697700.68                 0.0   \n",
       "\n",
       "       TRANSPORTATION OF THINGS  BENEFITS TO FORMER PERSONNEL  \n",
       "0                           0.0                           0.0  \n",
       "1                           0.0                           0.0  \n",
       "2                           0.0                           0.0  \n",
       "3                           0.0                           0.0  \n",
       "4                           0.0                           0.0  \n",
       "...                         ...                           ...  \n",
       "20715                       0.0                           0.0  \n",
       "20716                       0.0                           0.0  \n",
       "20717                       0.0                           0.0  \n",
       "20718                       0.0                           0.0  \n",
       "20719                       0.0                           0.0  \n",
       "\n",
       "[20720 rows x 12 columns]"
      ]
     },
     "execution_count": 121,
     "metadata": {},
     "output_type": "execute_result"
    }
   ],
   "source": [
    "import numpy as np\n",
    "quarters = house_data['QUARTER'].unique()\n",
    "categories = house_data['CATEGORY'].unique()\n",
    "spending_data = []\n",
    "\n",
    "for quarter in quarters:\n",
    "    hd_by_quarter = house_data[house_data['QUARTER'] == quarter]\n",
    "    bio_ids = hd_by_quarter['BIOGUIDE_ID'].unique()\n",
    "\n",
    "    spending_per_candidate = hd_by_quarter.groupby(['BIOGUIDE_ID','CATEGORY'])['AMOUNT'].sum()\n",
    "        \n",
    "    for bio_id in bio_ids:\n",
    "        row = [bio_id]\n",
    "        for category in categories:\n",
    "            if category in spending_per_candidate[bio_id]:\n",
    "                row.append(spending_per_candidate[bio_id][category])\n",
    "            else:\n",
    "                row.append(0)\n",
    "        spending_data.append(row)\n",
    "        \n",
    "quarter_spending_df = pd.DataFrame(spending_data,columns = [\"BIOGUIDE_ID\"] + categories.tolist())\n",
    "quarter_spending_df"
   ]
  },
  {
   "cell_type": "markdown",
   "metadata": {},
   "source": [
    "Additionally, we want to vertically normalize the dataset because some categories tend to have more spending than others. Without normalizing this data we might miss out on patterns involving low spending categories because they will have a smaller contribution to a data point's \"distance\" to other points."
   ]
  },
  {
   "cell_type": "code",
   "execution_count": 122,
   "metadata": {
    "collapsed": true
   },
   "outputs": [
    {
     "data": {
      "text/html": [
       "<div>\n",
       "<style scoped>\n",
       "    .dataframe tbody tr th:only-of-type {\n",
       "        vertical-align: middle;\n",
       "    }\n",
       "\n",
       "    .dataframe tbody tr th {\n",
       "        vertical-align: top;\n",
       "    }\n",
       "\n",
       "    .dataframe thead th {\n",
       "        text-align: right;\n",
       "    }\n",
       "</style>\n",
       "<table border=\"1\" class=\"dataframe\">\n",
       "  <thead>\n",
       "    <tr style=\"text-align: right;\">\n",
       "      <th></th>\n",
       "      <th>BIOGUIDE_ID</th>\n",
       "      <th>FRANKED MAIL</th>\n",
       "      <th>PERSONNEL COMPENSATION</th>\n",
       "      <th>TRAVEL</th>\n",
       "      <th>RENT, COMMUNICATION, UTILITIES</th>\n",
       "      <th>PRINTING AND REPRODUCTION</th>\n",
       "      <th>OTHER SERVICES</th>\n",
       "      <th>SUPPLIES AND MATERIALS</th>\n",
       "      <th>EQUIPMENT</th>\n",
       "      <th>PERSONNEL BENEFITS</th>\n",
       "      <th>TRANSPORTATION OF THINGS</th>\n",
       "      <th>BENEFITS TO FORMER PERSONNEL</th>\n",
       "    </tr>\n",
       "  </thead>\n",
       "  <tbody>\n",
       "    <tr>\n",
       "      <th>0</th>\n",
       "      <td>A000014</td>\n",
       "      <td>-0.391938</td>\n",
       "      <td>-0.242109</td>\n",
       "      <td>-0.335008</td>\n",
       "      <td>-0.414898</td>\n",
       "      <td>-0.450426</td>\n",
       "      <td>-0.431788</td>\n",
       "      <td>-0.190419</td>\n",
       "      <td>-0.573439</td>\n",
       "      <td>-0.001998</td>\n",
       "      <td>-0.040833</td>\n",
       "      <td>0.0</td>\n",
       "    </tr>\n",
       "    <tr>\n",
       "      <th>1</th>\n",
       "      <td>A000022</td>\n",
       "      <td>0.502667</td>\n",
       "      <td>-0.312801</td>\n",
       "      <td>-0.838251</td>\n",
       "      <td>0.000708</td>\n",
       "      <td>-0.096322</td>\n",
       "      <td>0.442242</td>\n",
       "      <td>-0.017257</td>\n",
       "      <td>-0.570688</td>\n",
       "      <td>-0.001998</td>\n",
       "      <td>-0.040833</td>\n",
       "      <td>0.0</td>\n",
       "    </tr>\n",
       "    <tr>\n",
       "      <th>2</th>\n",
       "      <td>A000055</td>\n",
       "      <td>-0.383993</td>\n",
       "      <td>-0.219082</td>\n",
       "      <td>-0.371946</td>\n",
       "      <td>-0.480224</td>\n",
       "      <td>-0.374631</td>\n",
       "      <td>-0.210006</td>\n",
       "      <td>-0.146265</td>\n",
       "      <td>-0.574433</td>\n",
       "      <td>-0.001998</td>\n",
       "      <td>-0.040833</td>\n",
       "      <td>0.0</td>\n",
       "    </tr>\n",
       "    <tr>\n",
       "      <th>3</th>\n",
       "      <td>A000364</td>\n",
       "      <td>3.477811</td>\n",
       "      <td>-0.497612</td>\n",
       "      <td>-0.541270</td>\n",
       "      <td>-0.211602</td>\n",
       "      <td>2.286675</td>\n",
       "      <td>1.056997</td>\n",
       "      <td>-0.171491</td>\n",
       "      <td>-0.565820</td>\n",
       "      <td>-0.001998</td>\n",
       "      <td>-0.040833</td>\n",
       "      <td>0.0</td>\n",
       "    </tr>\n",
       "    <tr>\n",
       "      <th>4</th>\n",
       "      <td>A000358</td>\n",
       "      <td>1.407432</td>\n",
       "      <td>-0.241410</td>\n",
       "      <td>-0.624986</td>\n",
       "      <td>-0.292990</td>\n",
       "      <td>1.205033</td>\n",
       "      <td>-0.161406</td>\n",
       "      <td>-0.159579</td>\n",
       "      <td>-0.566563</td>\n",
       "      <td>-0.001998</td>\n",
       "      <td>-0.040833</td>\n",
       "      <td>0.0</td>\n",
       "    </tr>\n",
       "    <tr>\n",
       "      <th>...</th>\n",
       "      <td>...</td>\n",
       "      <td>...</td>\n",
       "      <td>...</td>\n",
       "      <td>...</td>\n",
       "      <td>...</td>\n",
       "      <td>...</td>\n",
       "      <td>...</td>\n",
       "      <td>...</td>\n",
       "      <td>...</td>\n",
       "      <td>...</td>\n",
       "      <td>...</td>\n",
       "      <td>...</td>\n",
       "    </tr>\n",
       "    <tr>\n",
       "      <th>20715</th>\n",
       "      <td>W000827</td>\n",
       "      <td>-0.462885</td>\n",
       "      <td>0.117206</td>\n",
       "      <td>-0.845234</td>\n",
       "      <td>1.011521</td>\n",
       "      <td>-0.429761</td>\n",
       "      <td>0.406293</td>\n",
       "      <td>-0.247604</td>\n",
       "      <td>0.433050</td>\n",
       "      <td>-0.001998</td>\n",
       "      <td>-0.040833</td>\n",
       "      <td>0.0</td>\n",
       "    </tr>\n",
       "    <tr>\n",
       "      <th>20716</th>\n",
       "      <td>Y000062</td>\n",
       "      <td>-0.447833</td>\n",
       "      <td>1.016026</td>\n",
       "      <td>-0.843752</td>\n",
       "      <td>2.676750</td>\n",
       "      <td>-0.450641</td>\n",
       "      <td>-0.527553</td>\n",
       "      <td>0.153452</td>\n",
       "      <td>0.910259</td>\n",
       "      <td>-0.001998</td>\n",
       "      <td>-0.040833</td>\n",
       "      <td>0.0</td>\n",
       "    </tr>\n",
       "    <tr>\n",
       "      <th>20717</th>\n",
       "      <td>Y000065</td>\n",
       "      <td>-0.426711</td>\n",
       "      <td>1.646361</td>\n",
       "      <td>-0.750504</td>\n",
       "      <td>0.134158</td>\n",
       "      <td>-0.422967</td>\n",
       "      <td>-0.781370</td>\n",
       "      <td>-0.187111</td>\n",
       "      <td>1.574851</td>\n",
       "      <td>-0.001998</td>\n",
       "      <td>-0.040833</td>\n",
       "      <td>0.0</td>\n",
       "    </tr>\n",
       "    <tr>\n",
       "      <th>20718</th>\n",
       "      <td>Y000033</td>\n",
       "      <td>-0.455822</td>\n",
       "      <td>1.912273</td>\n",
       "      <td>2.785360</td>\n",
       "      <td>0.321172</td>\n",
       "      <td>-0.449119</td>\n",
       "      <td>1.549429</td>\n",
       "      <td>-0.199823</td>\n",
       "      <td>1.819913</td>\n",
       "      <td>-0.001998</td>\n",
       "      <td>-0.040833</td>\n",
       "      <td>0.0</td>\n",
       "    </tr>\n",
       "    <tr>\n",
       "      <th>20719</th>\n",
       "      <td>Z000017</td>\n",
       "      <td>-0.462401</td>\n",
       "      <td>1.333798</td>\n",
       "      <td>-0.525684</td>\n",
       "      <td>0.578896</td>\n",
       "      <td>-0.057676</td>\n",
       "      <td>0.805026</td>\n",
       "      <td>-0.210872</td>\n",
       "      <td>1.248957</td>\n",
       "      <td>-0.001998</td>\n",
       "      <td>-0.040833</td>\n",
       "      <td>0.0</td>\n",
       "    </tr>\n",
       "  </tbody>\n",
       "</table>\n",
       "<p>20720 rows × 12 columns</p>\n",
       "</div>"
      ],
      "text/plain": [
       "      BIOGUIDE_ID  FRANKED MAIL  PERSONNEL COMPENSATION    TRAVEL  \\\n",
       "0         A000014     -0.391938               -0.242109 -0.335008   \n",
       "1         A000022      0.502667               -0.312801 -0.838251   \n",
       "2         A000055     -0.383993               -0.219082 -0.371946   \n",
       "3         A000364      3.477811               -0.497612 -0.541270   \n",
       "4         A000358      1.407432               -0.241410 -0.624986   \n",
       "...           ...           ...                     ...       ...   \n",
       "20715     W000827     -0.462885                0.117206 -0.845234   \n",
       "20716     Y000062     -0.447833                1.016026 -0.843752   \n",
       "20717     Y000065     -0.426711                1.646361 -0.750504   \n",
       "20718     Y000033     -0.455822                1.912273  2.785360   \n",
       "20719     Z000017     -0.462401                1.333798 -0.525684   \n",
       "\n",
       "       RENT, COMMUNICATION, UTILITIES  PRINTING AND REPRODUCTION  \\\n",
       "0                           -0.414898                  -0.450426   \n",
       "1                            0.000708                  -0.096322   \n",
       "2                           -0.480224                  -0.374631   \n",
       "3                           -0.211602                   2.286675   \n",
       "4                           -0.292990                   1.205033   \n",
       "...                               ...                        ...   \n",
       "20715                        1.011521                  -0.429761   \n",
       "20716                        2.676750                  -0.450641   \n",
       "20717                        0.134158                  -0.422967   \n",
       "20718                        0.321172                  -0.449119   \n",
       "20719                        0.578896                  -0.057676   \n",
       "\n",
       "       OTHER SERVICES  SUPPLIES AND MATERIALS  EQUIPMENT  PERSONNEL BENEFITS  \\\n",
       "0           -0.431788               -0.190419  -0.573439           -0.001998   \n",
       "1            0.442242               -0.017257  -0.570688           -0.001998   \n",
       "2           -0.210006               -0.146265  -0.574433           -0.001998   \n",
       "3            1.056997               -0.171491  -0.565820           -0.001998   \n",
       "4           -0.161406               -0.159579  -0.566563           -0.001998   \n",
       "...               ...                     ...        ...                 ...   \n",
       "20715        0.406293               -0.247604   0.433050           -0.001998   \n",
       "20716       -0.527553                0.153452   0.910259           -0.001998   \n",
       "20717       -0.781370               -0.187111   1.574851           -0.001998   \n",
       "20718        1.549429               -0.199823   1.819913           -0.001998   \n",
       "20719        0.805026               -0.210872   1.248957           -0.001998   \n",
       "\n",
       "       TRANSPORTATION OF THINGS  BENEFITS TO FORMER PERSONNEL  \n",
       "0                     -0.040833                           0.0  \n",
       "1                     -0.040833                           0.0  \n",
       "2                     -0.040833                           0.0  \n",
       "3                     -0.040833                           0.0  \n",
       "4                     -0.040833                           0.0  \n",
       "...                         ...                           ...  \n",
       "20715                 -0.040833                           0.0  \n",
       "20716                 -0.040833                           0.0  \n",
       "20717                 -0.040833                           0.0  \n",
       "20718                 -0.040833                           0.0  \n",
       "20719                 -0.040833                           0.0  \n",
       "\n",
       "[20720 rows x 12 columns]"
      ]
     },
     "execution_count": 122,
     "metadata": {},
     "output_type": "execute_result"
    }
   ],
   "source": [
    "# Takes in a dataframe and a list of columns to normalize\n",
    "def normalize(df, categories):\n",
    "    # get the mean and std of each column\n",
    "    mean = quarter_spending_df.mean()\n",
    "    std = quarter_spending_df.std()\n",
    "\n",
    "    def normalize_helper(row):\n",
    "        for category in categories:\n",
    "            if std[category] == 0:\n",
    "                row[category] = (row[category] - mean[category])\n",
    "            else:\n",
    "                row[category] = (row[category] - mean[category]) / std[category]\n",
    "        return row\n",
    "    return df.apply(normalize_helper, axis=1)\n",
    "quarter_spending_df = normalize(quarter_spending_df, categories)\n",
    "quarter_spending_df"
   ]
  },
  {
   "cell_type": "markdown",
   "metadata": {},
   "source": [
    "Finally, we want to combine this spending formation with data about the candidate. Specifically data about the political party they are affiliated with as well as the state they represent."
   ]
  },
  {
   "cell_type": "code",
   "execution_count": 123,
   "metadata": {
    "collapsed": true
   },
   "outputs": [
    {
     "data": {
      "text/html": [
       "<div>\n",
       "<style scoped>\n",
       "    .dataframe tbody tr th:only-of-type {\n",
       "        vertical-align: middle;\n",
       "    }\n",
       "\n",
       "    .dataframe tbody tr th {\n",
       "        vertical-align: top;\n",
       "    }\n",
       "\n",
       "    .dataframe thead th {\n",
       "        text-align: right;\n",
       "    }\n",
       "</style>\n",
       "<table border=\"1\" class=\"dataframe\">\n",
       "  <thead>\n",
       "    <tr style=\"text-align: right;\">\n",
       "      <th></th>\n",
       "      <th>BIOGUIDE_ID</th>\n",
       "      <th>FRANKED MAIL</th>\n",
       "      <th>PERSONNEL COMPENSATION</th>\n",
       "      <th>TRAVEL</th>\n",
       "      <th>RENT, COMMUNICATION, UTILITIES</th>\n",
       "      <th>PRINTING AND REPRODUCTION</th>\n",
       "      <th>OTHER SERVICES</th>\n",
       "      <th>SUPPLIES AND MATERIALS</th>\n",
       "      <th>EQUIPMENT</th>\n",
       "      <th>PERSONNEL BENEFITS</th>\n",
       "      <th>TRANSPORTATION OF THINGS</th>\n",
       "      <th>BENEFITS TO FORMER PERSONNEL</th>\n",
       "      <th>LASTNAME</th>\n",
       "      <th>FIRSTNAME</th>\n",
       "      <th>PARTY</th>\n",
       "      <th>STATE</th>\n",
       "    </tr>\n",
       "  </thead>\n",
       "  <tbody>\n",
       "    <tr>\n",
       "      <th>0</th>\n",
       "      <td>A000014</td>\n",
       "      <td>-0.391938</td>\n",
       "      <td>-0.242109</td>\n",
       "      <td>-0.335008</td>\n",
       "      <td>-0.414898</td>\n",
       "      <td>-0.450426</td>\n",
       "      <td>-0.431788</td>\n",
       "      <td>-0.190419</td>\n",
       "      <td>-0.573439</td>\n",
       "      <td>-0.001998</td>\n",
       "      <td>-0.040833</td>\n",
       "      <td>0.0</td>\n",
       "      <td>Abercrombie</td>\n",
       "      <td>Neil</td>\n",
       "      <td>Democratic</td>\n",
       "      <td>Hawaii</td>\n",
       "    </tr>\n",
       "    <tr>\n",
       "      <th>1</th>\n",
       "      <td>A000014</td>\n",
       "      <td>-0.425417</td>\n",
       "      <td>-0.751597</td>\n",
       "      <td>-0.736748</td>\n",
       "      <td>-0.486954</td>\n",
       "      <td>-0.447487</td>\n",
       "      <td>-0.256962</td>\n",
       "      <td>-0.207101</td>\n",
       "      <td>-0.574488</td>\n",
       "      <td>-0.001998</td>\n",
       "      <td>-0.040833</td>\n",
       "      <td>0.0</td>\n",
       "      <td>Abercrombie</td>\n",
       "      <td>Neil</td>\n",
       "      <td>Democratic</td>\n",
       "      <td>Hawaii</td>\n",
       "    </tr>\n",
       "    <tr>\n",
       "      <th>2</th>\n",
       "      <td>A000014</td>\n",
       "      <td>-0.460643</td>\n",
       "      <td>-1.349545</td>\n",
       "      <td>-1.092448</td>\n",
       "      <td>-1.125149</td>\n",
       "      <td>-0.428761</td>\n",
       "      <td>-0.825450</td>\n",
       "      <td>-0.251972</td>\n",
       "      <td>-0.576006</td>\n",
       "      <td>-0.001998</td>\n",
       "      <td>-0.040833</td>\n",
       "      <td>0.0</td>\n",
       "      <td>Abercrombie</td>\n",
       "      <td>Neil</td>\n",
       "      <td>Democratic</td>\n",
       "      <td>Hawaii</td>\n",
       "    </tr>\n",
       "    <tr>\n",
       "      <th>3</th>\n",
       "      <td>A000014</td>\n",
       "      <td>-0.460643</td>\n",
       "      <td>-1.349616</td>\n",
       "      <td>-1.092448</td>\n",
       "      <td>-1.125149</td>\n",
       "      <td>-0.452021</td>\n",
       "      <td>-0.993355</td>\n",
       "      <td>-0.251972</td>\n",
       "      <td>-0.576006</td>\n",
       "      <td>-0.001998</td>\n",
       "      <td>-0.040833</td>\n",
       "      <td>0.0</td>\n",
       "      <td>Abercrombie</td>\n",
       "      <td>Neil</td>\n",
       "      <td>Democratic</td>\n",
       "      <td>Hawaii</td>\n",
       "    </tr>\n",
       "    <tr>\n",
       "      <th>4</th>\n",
       "      <td>A000014</td>\n",
       "      <td>-0.460643</td>\n",
       "      <td>-1.349545</td>\n",
       "      <td>-1.092796</td>\n",
       "      <td>-1.125149</td>\n",
       "      <td>-0.452021</td>\n",
       "      <td>-0.993355</td>\n",
       "      <td>-0.251972</td>\n",
       "      <td>-0.576006</td>\n",
       "      <td>-0.001998</td>\n",
       "      <td>-0.040833</td>\n",
       "      <td>0.0</td>\n",
       "      <td>Abercrombie</td>\n",
       "      <td>Neil</td>\n",
       "      <td>Democratic</td>\n",
       "      <td>Hawaii</td>\n",
       "    </tr>\n",
       "    <tr>\n",
       "      <th>...</th>\n",
       "      <td>...</td>\n",
       "      <td>...</td>\n",
       "      <td>...</td>\n",
       "      <td>...</td>\n",
       "      <td>...</td>\n",
       "      <td>...</td>\n",
       "      <td>...</td>\n",
       "      <td>...</td>\n",
       "      <td>...</td>\n",
       "      <td>...</td>\n",
       "      <td>...</td>\n",
       "      <td>...</td>\n",
       "      <td>...</td>\n",
       "      <td>...</td>\n",
       "      <td>...</td>\n",
       "      <td>...</td>\n",
       "    </tr>\n",
       "    <tr>\n",
       "      <th>20683</th>\n",
       "      <td>C001125</td>\n",
       "      <td>-0.460643</td>\n",
       "      <td>-0.686405</td>\n",
       "      <td>-0.983710</td>\n",
       "      <td>-0.679615</td>\n",
       "      <td>-0.372413</td>\n",
       "      <td>-0.993355</td>\n",
       "      <td>2.012250</td>\n",
       "      <td>-0.576006</td>\n",
       "      <td>-0.001998</td>\n",
       "      <td>-0.040833</td>\n",
       "      <td>0.0</td>\n",
       "      <td>Carter</td>\n",
       "      <td>Troy</td>\n",
       "      <td>Democratic</td>\n",
       "      <td>Louisiana</td>\n",
       "    </tr>\n",
       "    <tr>\n",
       "      <th>20684</th>\n",
       "      <td>C001125</td>\n",
       "      <td>-0.460643</td>\n",
       "      <td>0.268177</td>\n",
       "      <td>0.003657</td>\n",
       "      <td>0.784821</td>\n",
       "      <td>-0.158097</td>\n",
       "      <td>-0.104457</td>\n",
       "      <td>0.004158</td>\n",
       "      <td>0.689664</td>\n",
       "      <td>-0.001998</td>\n",
       "      <td>-0.040833</td>\n",
       "      <td>0.0</td>\n",
       "      <td>Carter</td>\n",
       "      <td>Troy</td>\n",
       "      <td>Democratic</td>\n",
       "      <td>Louisiana</td>\n",
       "    </tr>\n",
       "    <tr>\n",
       "      <th>20685</th>\n",
       "      <td>S001218</td>\n",
       "      <td>-0.463798</td>\n",
       "      <td>-1.026948</td>\n",
       "      <td>-1.092448</td>\n",
       "      <td>-1.125149</td>\n",
       "      <td>-0.452021</td>\n",
       "      <td>-0.993355</td>\n",
       "      <td>-0.250769</td>\n",
       "      <td>-0.375052</td>\n",
       "      <td>-0.001998</td>\n",
       "      <td>-0.040833</td>\n",
       "      <td>0.0</td>\n",
       "      <td>Stansbury</td>\n",
       "      <td>Melanie Ann</td>\n",
       "      <td>Democratic</td>\n",
       "      <td>New Mexico</td>\n",
       "    </tr>\n",
       "    <tr>\n",
       "      <th>20686</th>\n",
       "      <td>S001218</td>\n",
       "      <td>-0.463724</td>\n",
       "      <td>0.670236</td>\n",
       "      <td>1.302408</td>\n",
       "      <td>-0.705039</td>\n",
       "      <td>-0.273036</td>\n",
       "      <td>-0.354919</td>\n",
       "      <td>-0.145231</td>\n",
       "      <td>0.831756</td>\n",
       "      <td>-0.001998</td>\n",
       "      <td>-0.040833</td>\n",
       "      <td>0.0</td>\n",
       "      <td>Stansbury</td>\n",
       "      <td>Melanie Ann</td>\n",
       "      <td>Democratic</td>\n",
       "      <td>New Mexico</td>\n",
       "    </tr>\n",
       "    <tr>\n",
       "      <th>20687</th>\n",
       "      <td>E000071</td>\n",
       "      <td>-0.471601</td>\n",
       "      <td>-0.463493</td>\n",
       "      <td>-0.881097</td>\n",
       "      <td>-0.643834</td>\n",
       "      <td>-0.423185</td>\n",
       "      <td>-0.512378</td>\n",
       "      <td>-0.072603</td>\n",
       "      <td>0.067396</td>\n",
       "      <td>-0.001998</td>\n",
       "      <td>-0.040833</td>\n",
       "      <td>0.0</td>\n",
       "      <td>Ellzey</td>\n",
       "      <td>Jake</td>\n",
       "      <td>Republican</td>\n",
       "      <td>Texas</td>\n",
       "    </tr>\n",
       "  </tbody>\n",
       "</table>\n",
       "<p>20688 rows × 16 columns</p>\n",
       "</div>"
      ],
      "text/plain": [
       "      BIOGUIDE_ID  FRANKED MAIL  PERSONNEL COMPENSATION    TRAVEL  \\\n",
       "0         A000014     -0.391938               -0.242109 -0.335008   \n",
       "1         A000014     -0.425417               -0.751597 -0.736748   \n",
       "2         A000014     -0.460643               -1.349545 -1.092448   \n",
       "3         A000014     -0.460643               -1.349616 -1.092448   \n",
       "4         A000014     -0.460643               -1.349545 -1.092796   \n",
       "...           ...           ...                     ...       ...   \n",
       "20683     C001125     -0.460643               -0.686405 -0.983710   \n",
       "20684     C001125     -0.460643                0.268177  0.003657   \n",
       "20685     S001218     -0.463798               -1.026948 -1.092448   \n",
       "20686     S001218     -0.463724                0.670236  1.302408   \n",
       "20687     E000071     -0.471601               -0.463493 -0.881097   \n",
       "\n",
       "       RENT, COMMUNICATION, UTILITIES  PRINTING AND REPRODUCTION  \\\n",
       "0                           -0.414898                  -0.450426   \n",
       "1                           -0.486954                  -0.447487   \n",
       "2                           -1.125149                  -0.428761   \n",
       "3                           -1.125149                  -0.452021   \n",
       "4                           -1.125149                  -0.452021   \n",
       "...                               ...                        ...   \n",
       "20683                       -0.679615                  -0.372413   \n",
       "20684                        0.784821                  -0.158097   \n",
       "20685                       -1.125149                  -0.452021   \n",
       "20686                       -0.705039                  -0.273036   \n",
       "20687                       -0.643834                  -0.423185   \n",
       "\n",
       "       OTHER SERVICES  SUPPLIES AND MATERIALS  EQUIPMENT  PERSONNEL BENEFITS  \\\n",
       "0           -0.431788               -0.190419  -0.573439           -0.001998   \n",
       "1           -0.256962               -0.207101  -0.574488           -0.001998   \n",
       "2           -0.825450               -0.251972  -0.576006           -0.001998   \n",
       "3           -0.993355               -0.251972  -0.576006           -0.001998   \n",
       "4           -0.993355               -0.251972  -0.576006           -0.001998   \n",
       "...               ...                     ...        ...                 ...   \n",
       "20683       -0.993355                2.012250  -0.576006           -0.001998   \n",
       "20684       -0.104457                0.004158   0.689664           -0.001998   \n",
       "20685       -0.993355               -0.250769  -0.375052           -0.001998   \n",
       "20686       -0.354919               -0.145231   0.831756           -0.001998   \n",
       "20687       -0.512378               -0.072603   0.067396           -0.001998   \n",
       "\n",
       "       TRANSPORTATION OF THINGS  BENEFITS TO FORMER PERSONNEL     LASTNAME  \\\n",
       "0                     -0.040833                           0.0  Abercrombie   \n",
       "1                     -0.040833                           0.0  Abercrombie   \n",
       "2                     -0.040833                           0.0  Abercrombie   \n",
       "3                     -0.040833                           0.0  Abercrombie   \n",
       "4                     -0.040833                           0.0  Abercrombie   \n",
       "...                         ...                           ...          ...   \n",
       "20683                 -0.040833                           0.0       Carter   \n",
       "20684                 -0.040833                           0.0       Carter   \n",
       "20685                 -0.040833                           0.0    Stansbury   \n",
       "20686                 -0.040833                           0.0    Stansbury   \n",
       "20687                 -0.040833                           0.0       Ellzey   \n",
       "\n",
       "         FIRSTNAME       PARTY       STATE  \n",
       "0             Neil  Democratic      Hawaii  \n",
       "1             Neil  Democratic      Hawaii  \n",
       "2             Neil  Democratic      Hawaii  \n",
       "3             Neil  Democratic      Hawaii  \n",
       "4             Neil  Democratic      Hawaii  \n",
       "...            ...         ...         ...  \n",
       "20683         Troy  Democratic   Louisiana  \n",
       "20684         Troy  Democratic   Louisiana  \n",
       "20685  Melanie Ann  Democratic  New Mexico  \n",
       "20686  Melanie Ann  Democratic  New Mexico  \n",
       "20687         Jake  Republican       Texas  \n",
       "\n",
       "[20688 rows x 16 columns]"
      ]
     },
     "execution_count": 123,
     "metadata": {},
     "output_type": "execute_result"
    }
   ],
   "source": [
    "# Left join the spending data with the candidate data\n",
    "spending_member_info = quarter_spending_df.merge(members, on=\"BIOGUIDE_ID\")\n",
    "spending_member_info"
   ]
  },
  {
   "cell_type": "markdown",
   "metadata": {},
   "source": [
    "### K-NN Model to Predict Candidate\n",
    "We would like test if the spending of a candidate is related to their previous spending. Our null hypothesis is that `a candidate's spending in a particular quarter has no relation to their spending in other quarters`. To test this hypothesis, we aim to train a K-NN model and test its mean accuracy. If the model performs significantly better than random chance, we will have good reason to reject the null hypothesis.\n",
    "\n",
    "#### Model Specific Pre-processing\n",
    "Before training the model, we need to ensure that each candidate in the dataset has an appropriate number of datapoints. Since we plan to use 10-fold cross validation, we want to ensure that each fold has atleast 1 point for each candidate. After looking through the dataset, we settled on having a minimum of 20 datapoints for each house member to allow for about 2 points in each fold. We also settled on this number because it does not reduce the size of our dataset too much."
   ]
  },
  {
   "cell_type": "code",
   "execution_count": 124,
   "metadata": {
    "collapsed": true
   },
   "outputs": [
    {
     "data": {
      "text/plain": [
       "(471, 933)"
      ]
     },
     "execution_count": 124,
     "metadata": {},
     "output_type": "execute_result"
    }
   ],
   "source": [
    "spending_member_info_candidates_arr = []\n",
    "for bio_id in spending_member_info[\"BIOGUIDE_ID\"].unique():\n",
    "    count = sum(sum([spending_member_info[\"BIOGUIDE_ID\"] == bio_id]))\n",
    "    if count >= 20:\n",
    "        spending_member_info_candidates_arr.append(spending_member_info[spending_member_info[\"BIOGUIDE_ID\"] == bio_id])\n",
    "spending_member_info_candidates = pd.concat(spending_member_info_candidates_arr)\n",
    "(len(spending_member_info_candidates[\"BIOGUIDE_ID\"].unique()),len(spending_member_info[\"BIOGUIDE_ID\"].unique()))"
   ]
  },
  {
   "cell_type": "markdown",
   "metadata": {},
   "source": [
    "We are splitting the dataset into a training set and a test set so we have we can evaluate the model's performance on data it has not seen before."
   ]
  },
  {
   "cell_type": "code",
   "execution_count": 125,
   "metadata": {},
   "outputs": [],
   "source": [
    "from sklearn.model_selection import train_test_split\n",
    "x_train, x_test, y_train, y_test = train_test_split(spending_member_info_candidates[categories],spending_member_info_candidates[\"BIOGUIDE_ID\"])"
   ]
  },
  {
   "cell_type": "markdown",
   "metadata": {},
   "source": [
    "#### Selecting Hyperparameters\n",
    "All models that we use to tune our hyperparameters will use 10-fold cross validation to keep the training set larger by negating the need for a validation set.\n",
    "\n",
    "The first hyperparameter we want to choose between is the weight parameter so we are training 2 models with default parameters for everything except for the weighting."
   ]
  },
  {
   "cell_type": "code",
   "execution_count": 126,
   "metadata": {
    "collapsed": true
   },
   "outputs": [
    {
     "data": {
      "text/plain": [
       "0.06005575097179664"
      ]
     },
     "execution_count": 126,
     "metadata": {},
     "output_type": "execute_result"
    }
   ],
   "source": [
    "from sklearn.neighbors import KNeighborsClassifier\n",
    "from sklearn.model_selection import cross_val_score\n",
    "\n",
    "knn_model = KNeighborsClassifier(weights=\"uniform\")\n",
    "knn_trained = knn_model.fit(x_train, y_train)\n",
    "cross_val_score(knn_trained, x_train, y_train, cv=10).mean()"
   ]
  },
  {
   "cell_type": "code",
   "execution_count": 127,
   "metadata": {
    "collapsed": true
   },
   "outputs": [
    {
     "data": {
      "text/plain": [
       "0.07426955028179066"
      ]
     },
     "execution_count": 127,
     "metadata": {},
     "output_type": "execute_result"
    }
   ],
   "source": [
    "knn_model = KNeighborsClassifier(weights='distance')\n",
    "knn_trained = knn_model.fit(x_train, y_train)\n",
    "cross_val_score(knn_trained, x_train, y_train, cv=10).mean()"
   ]
  },
  {
   "cell_type": "markdown",
   "metadata": {},
   "source": [
    "From these results it seems like both parameters are close in performance but weighting points by distance results in a slight increase accuracy. This makes sense as the closer a point is to other points, the more closely related we would expect them to be. Given this, we are keeping distance as our weighting method.\n",
    "\n",
    "The second parameter we want to tune is the number of neighbors the model is considering. To do this we are training models for intervals of 5 between 5 and 300 to see where the accuracy of the model peak or starts having diminishing returns."
   ]
  },
  {
   "cell_type": "code",
   "execution_count": 128,
   "metadata": {
    "collapsed": true
   },
   "outputs": [
    {
     "data": {
      "image/png": "[encoded data removed]",
      "text/plain": [
       "<Figure size 432x288 with 1 Axes>"
      ]
     },
     "metadata": {
      "needs_background": "light"
     },
     "output_type": "display_data"
    }
   ],
   "source": [
    "from sklearn.model_selection import GridSearchCV\n",
    "# A function that takes in a K-NN model and values of k to test and displays graph representing the results\n",
    "def graphk(knn_model, test_k, folds = 10):\n",
    "    params=[{\n",
    "        'n_neighbors': test_k,\n",
    "    }]\n",
    "    gs_knn = GridSearchCV(knn_model, param_grid=params, cv=folds, n_jobs=-1)\n",
    "    gs_knn.fit(x_train, y_train)\n",
    "    result_k = gs_knn.cv_results_['mean_test_score'].tolist()\n",
    "\n",
    "    fig, ax = plt.subplots()\n",
    "    ax.plot(test_k, result_k, '-o')\n",
    "    ax.set_xlabel(\"Value for n_neighbors in model\")\n",
    "    ax.set_ylabel(\"Mean Score from cross validation\")\n",
    "    ax.set_title(\"Mean score vs n_neighbors\")\n",
    "    fig.show()\n",
    "\n",
    "    return result_k\n",
    "\n",
    "knn_model = KNeighborsClassifier(weights='distance')\n",
    "test_k = [1] + [i for i in range(5,300+1,5)]\n",
    "result_k = graphk(knn_model, test_k)"
   ]
  },
  {
   "cell_type": "markdown",
   "metadata": {},
   "source": [
    "Based of the results of this graph, we can see that accuracy seems to peak around a specific number of neighbors, so we are making a new graph with values of k at intervals of 1 to find a optimal hyperparameter."
   ]
  },
  {
   "cell_type": "code",
   "execution_count": 129,
   "metadata": {
    "collapsed": true
   },
   "outputs": [
    {
     "data": {
      "image/png": "[encoded data removed]",
      "text/plain": [
       "<Figure size 432x288 with 1 Axes>"
      ]
     },
     "metadata": {
      "needs_background": "light"
     },
     "output_type": "display_data"
    }
   ],
   "source": [
    "test_k = range(15,50+1)\n",
    "result_k = graphk(knn_model, test_k)"
   ]
  },
  {
   "cell_type": "markdown",
   "metadata": {},
   "source": [
    "From this graph we can grab the optimal k value."
   ]
  },
  {
   "cell_type": "code",
   "execution_count": 130,
   "metadata": {
    "collapsed": true
   },
   "outputs": [
    {
     "data": {
      "text/plain": [
       "21"
      ]
     },
     "execution_count": 130,
     "metadata": {},
     "output_type": "execute_result"
    }
   ],
   "source": [
    "max_score = max(result_k)\n",
    "index_of_max = result_k.index(max_score)\n",
    "optimal_k_val = test_k[index_of_max]\n",
    "optimal_k_val"
   ]
  },
  {
   "cell_type": "markdown",
   "metadata": {},
   "source": [
    "With all our hyper parameters picked out, we can train our final model and test it on our test set."
   ]
  },
  {
   "cell_type": "code",
   "execution_count": 131,
   "metadata": {
    "collapsed": true
   },
   "outputs": [
    {
     "data": {
      "text/plain": [
       "0.0763923114834894"
      ]
     },
     "execution_count": 131,
     "metadata": {},
     "output_type": "execute_result"
    }
   ],
   "source": [
    "knn_model = KNeighborsClassifier(weights='distance', n_neighbors=optimal_k_val)\n",
    "knn_trained = knn_model.fit(x_train, y_train)\n",
    "knn_model.score(x_test,y_test)"
   ]
  },
  {
   "cell_type": "markdown",
   "metadata": {},
   "source": [
    "This suggests our model has an accuracy of 8%. "
   ]
  },
  {
   "cell_type": "code",
   "execution_count": 132,
   "metadata": {},
   "outputs": [
    {
     "data": {
      "text/plain": [
       "471"
      ]
     },
     "execution_count": 132,
     "metadata": {},
     "output_type": "execute_result"
    }
   ],
   "source": [
    "len(y_test.unique())"
   ]
  },
  {
   "cell_type": "markdown",
   "metadata": {},
   "source": [
    "For 471 candidates, a 8% accuracy in predicting candidates seems substantially better than random chance. To quantify just how much better, we are using McNemar's test to compare our model to random guessing."
   ]
  },
  {
   "cell_type": "code",
   "execution_count": 133,
   "metadata": {},
   "outputs": [
    {
     "data": {
      "text/plain": [
       "1.5004417693205446e-84"
      ]
     },
     "execution_count": 133,
     "metadata": {},
     "output_type": "execute_result"
    }
   ],
   "source": [
    "from sklearn.dummy import DummyClassifier\n",
    "from sklearn.metrics import confusion_matrix\n",
    "from statsmodels.stats.contingency_tables import mcnemar\n",
    "\n",
    "def pvalue_against_random(model, x_train, y_train, x_test, y_test):\n",
    "    dummy_classifier = DummyClassifier(strategy='uniform', random_state=41968)\n",
    "    dummy_classifier.fit(x_train, y_train)\n",
    "    # dummy_score = dummy_classifier.score(x_test, y_test)\n",
    "\n",
    "    true_knn_true_dummy, true_knn_false_dummy, false_knn_true_dummy, false_knn_false_dummy = 0,0,0,0\n",
    "\n",
    "    for i,true_val in enumerate(y_test):\n",
    "        if model.predict(x_test[i:i+1]) == true_val:\n",
    "            if dummy_classifier.predict(x_test[i:i+1]) == true_val:\n",
    "                true_knn_true_dummy += 1\n",
    "            else:\n",
    "                true_knn_false_dummy += 1\n",
    "        else:\n",
    "            if dummy_classifier.predict(x_test[i:i+1]) == true_val:\n",
    "                false_knn_true_dummy += 1\n",
    "            else:\n",
    "                false_knn_false_dummy += 1\n",
    "\n",
    "    table = [[true_knn_true_dummy, true_knn_false_dummy], [false_knn_true_dummy, false_knn_false_dummy]]\n",
    "    result = mcnemar(table, exact=True)\n",
    "    return result.pvalue\n",
    "    \n",
    "pvalue_against_random(knn_model, x_train, y_train, x_test, y_test)"
   ]
  },
  {
   "cell_type": "markdown",
   "metadata": {},
   "source": [
    "Based on the p-value, there is a 0.010% chance that we would have gotten the results we did if the null hypothesis was true. This is well below the 5% needed for significance in this class so we confidently reject the null hypothesis and claim `a candidate's spending in a particular quarter is related to their spending in other quarters`."
   ]
  },
  {
   "cell_type": "markdown",
   "metadata": {},
   "source": [
    "### K-NN Model to Predict a Candidate's Political Party\n",
    "We would like test if the spending of a candidate is related to their political party. Our null hypothesis is that `a candidate's spending has no relation to their political party`. To test this hypothesis, we aim to train a K-NN model and test its mean accuracy. If the model performs significantly better than random chance, we will have good reason to reject the null hypothesis.\n",
    "\n",
    "#### Model Specific Pre-processing\n",
    "Our previous model leads us to believe that a candidates spending over the quarters are related. Since we aim to see if a candidates spending is related to their political party, it makes sense to average the data for each quarter for each candidate. This will prevent the model from predicting the party by simply predicting the candidate the data belongs to."
   ]
  },
  {
   "cell_type": "code",
   "execution_count": 134,
   "metadata": {
    "collapsed": true
   },
   "outputs": [
    {
     "data": {
      "text/html": [
       "<div>\n",
       "<style scoped>\n",
       "    .dataframe tbody tr th:only-of-type {\n",
       "        vertical-align: middle;\n",
       "    }\n",
       "\n",
       "    .dataframe tbody tr th {\n",
       "        vertical-align: top;\n",
       "    }\n",
       "\n",
       "    .dataframe thead th {\n",
       "        text-align: right;\n",
       "    }\n",
       "</style>\n",
       "<table border=\"1\" class=\"dataframe\">\n",
       "  <thead>\n",
       "    <tr style=\"text-align: right;\">\n",
       "      <th></th>\n",
       "      <th>BIOGUIDE_ID</th>\n",
       "      <th>FRANKED MAIL</th>\n",
       "      <th>PERSONNEL COMPENSATION</th>\n",
       "      <th>TRAVEL</th>\n",
       "      <th>RENT, COMMUNICATION, UTILITIES</th>\n",
       "      <th>PRINTING AND REPRODUCTION</th>\n",
       "      <th>OTHER SERVICES</th>\n",
       "      <th>SUPPLIES AND MATERIALS</th>\n",
       "      <th>EQUIPMENT</th>\n",
       "      <th>PERSONNEL BENEFITS</th>\n",
       "      <th>TRANSPORTATION OF THINGS</th>\n",
       "      <th>BENEFITS TO FORMER PERSONNEL</th>\n",
       "      <th>LASTNAME</th>\n",
       "      <th>FIRSTNAME</th>\n",
       "      <th>PARTY</th>\n",
       "      <th>STATE</th>\n",
       "    </tr>\n",
       "  </thead>\n",
       "  <tbody>\n",
       "    <tr>\n",
       "      <th>0</th>\n",
       "      <td>A000014</td>\n",
       "      <td>-0.439857</td>\n",
       "      <td>-1.008483</td>\n",
       "      <td>-0.869890</td>\n",
       "      <td>-0.855460</td>\n",
       "      <td>-0.446143</td>\n",
       "      <td>-0.700182</td>\n",
       "      <td>-0.230687</td>\n",
       "      <td>-0.575189</td>\n",
       "      <td>-0.001998</td>\n",
       "      <td>-0.040833</td>\n",
       "      <td>0.0</td>\n",
       "      <td>Abercrombie</td>\n",
       "      <td>Neil</td>\n",
       "      <td>Democratic</td>\n",
       "      <td>Hawaii</td>\n",
       "    </tr>\n",
       "    <tr>\n",
       "      <th>1</th>\n",
       "      <td>A000022</td>\n",
       "      <td>-0.103595</td>\n",
       "      <td>-0.524438</td>\n",
       "      <td>-0.853022</td>\n",
       "      <td>-0.264055</td>\n",
       "      <td>-0.293391</td>\n",
       "      <td>-0.230185</td>\n",
       "      <td>-0.118245</td>\n",
       "      <td>-0.565770</td>\n",
       "      <td>-0.001998</td>\n",
       "      <td>0.563125</td>\n",
       "      <td>0.0</td>\n",
       "      <td>Ackerman</td>\n",
       "      <td>Gary L.</td>\n",
       "      <td>Democratic</td>\n",
       "      <td>New York</td>\n",
       "    </tr>\n",
       "    <tr>\n",
       "      <th>2</th>\n",
       "      <td>A000055</td>\n",
       "      <td>-0.326470</td>\n",
       "      <td>0.218289</td>\n",
       "      <td>0.748805</td>\n",
       "      <td>-0.016961</td>\n",
       "      <td>-0.321237</td>\n",
       "      <td>-0.113117</td>\n",
       "      <td>-0.023785</td>\n",
       "      <td>0.114221</td>\n",
       "      <td>-0.001998</td>\n",
       "      <td>-0.040833</td>\n",
       "      <td>0.0</td>\n",
       "      <td>Aderholt</td>\n",
       "      <td>Robert B.</td>\n",
       "      <td>Republican</td>\n",
       "      <td>Alabama</td>\n",
       "    </tr>\n",
       "    <tr>\n",
       "      <th>3</th>\n",
       "      <td>A000148</td>\n",
       "      <td>-0.453338</td>\n",
       "      <td>0.572019</td>\n",
       "      <td>-0.355615</td>\n",
       "      <td>1.310970</td>\n",
       "      <td>-0.225054</td>\n",
       "      <td>0.014117</td>\n",
       "      <td>-0.037597</td>\n",
       "      <td>0.861940</td>\n",
       "      <td>-0.001998</td>\n",
       "      <td>-0.040833</td>\n",
       "      <td>0.0</td>\n",
       "      <td>Auchincloss</td>\n",
       "      <td>Jake</td>\n",
       "      <td>Democratic</td>\n",
       "      <td>Massachusetts</td>\n",
       "    </tr>\n",
       "    <tr>\n",
       "      <th>4</th>\n",
       "      <td>A000210</td>\n",
       "      <td>0.041162</td>\n",
       "      <td>-0.586084</td>\n",
       "      <td>-0.849460</td>\n",
       "      <td>-0.245273</td>\n",
       "      <td>-0.202061</td>\n",
       "      <td>-0.169609</td>\n",
       "      <td>-0.185621</td>\n",
       "      <td>-0.562913</td>\n",
       "      <td>-0.001998</td>\n",
       "      <td>-0.040833</td>\n",
       "      <td>0.0</td>\n",
       "      <td>Andrews</td>\n",
       "      <td>Robert E.</td>\n",
       "      <td>Democratic</td>\n",
       "      <td>New Jersey</td>\n",
       "    </tr>\n",
       "    <tr>\n",
       "      <th>...</th>\n",
       "      <td>...</td>\n",
       "      <td>...</td>\n",
       "      <td>...</td>\n",
       "      <td>...</td>\n",
       "      <td>...</td>\n",
       "      <td>...</td>\n",
       "      <td>...</td>\n",
       "      <td>...</td>\n",
       "      <td>...</td>\n",
       "      <td>...</td>\n",
       "      <td>...</td>\n",
       "      <td>...</td>\n",
       "      <td>...</td>\n",
       "      <td>...</td>\n",
       "      <td>...</td>\n",
       "      <td>...</td>\n",
       "    </tr>\n",
       "    <tr>\n",
       "      <th>928</th>\n",
       "      <td>Y000064</td>\n",
       "      <td>0.141552</td>\n",
       "      <td>-0.457496</td>\n",
       "      <td>-0.082094</td>\n",
       "      <td>-0.542177</td>\n",
       "      <td>0.198280</td>\n",
       "      <td>-0.248551</td>\n",
       "      <td>-0.180442</td>\n",
       "      <td>-0.571207</td>\n",
       "      <td>-0.001998</td>\n",
       "      <td>-0.040833</td>\n",
       "      <td>0.0</td>\n",
       "      <td>Young</td>\n",
       "      <td>Todd</td>\n",
       "      <td>Republican</td>\n",
       "      <td>Indiana</td>\n",
       "    </tr>\n",
       "    <tr>\n",
       "      <th>929</th>\n",
       "      <td>Y000065</td>\n",
       "      <td>-0.271747</td>\n",
       "      <td>-0.066451</td>\n",
       "      <td>0.127232</td>\n",
       "      <td>-0.152667</td>\n",
       "      <td>-0.190796</td>\n",
       "      <td>-0.036926</td>\n",
       "      <td>-0.080539</td>\n",
       "      <td>0.064651</td>\n",
       "      <td>-0.001998</td>\n",
       "      <td>-0.040833</td>\n",
       "      <td>0.0</td>\n",
       "      <td>Yoho</td>\n",
       "      <td>Ted S.</td>\n",
       "      <td>Republican</td>\n",
       "      <td>Florida</td>\n",
       "    </tr>\n",
       "    <tr>\n",
       "      <th>930</th>\n",
       "      <td>Y000066</td>\n",
       "      <td>0.056159</td>\n",
       "      <td>-0.340876</td>\n",
       "      <td>0.084042</td>\n",
       "      <td>-0.153210</td>\n",
       "      <td>-0.131694</td>\n",
       "      <td>-0.129097</td>\n",
       "      <td>-0.086530</td>\n",
       "      <td>-0.117077</td>\n",
       "      <td>-0.001998</td>\n",
       "      <td>-0.037097</td>\n",
       "      <td>0.0</td>\n",
       "      <td>Young</td>\n",
       "      <td>David</td>\n",
       "      <td>Republican</td>\n",
       "      <td>Iowa</td>\n",
       "    </tr>\n",
       "    <tr>\n",
       "      <th>931</th>\n",
       "      <td>Z000017</td>\n",
       "      <td>0.629334</td>\n",
       "      <td>0.477587</td>\n",
       "      <td>-0.046988</td>\n",
       "      <td>0.582069</td>\n",
       "      <td>0.322944</td>\n",
       "      <td>0.519221</td>\n",
       "      <td>-0.062521</td>\n",
       "      <td>0.611285</td>\n",
       "      <td>-0.001998</td>\n",
       "      <td>0.987060</td>\n",
       "      <td>0.0</td>\n",
       "      <td>Zeldin</td>\n",
       "      <td>Lee M.</td>\n",
       "      <td>Republican</td>\n",
       "      <td>New York</td>\n",
       "    </tr>\n",
       "    <tr>\n",
       "      <th>932</th>\n",
       "      <td>Z000018</td>\n",
       "      <td>-0.159776</td>\n",
       "      <td>-0.619898</td>\n",
       "      <td>0.440528</td>\n",
       "      <td>-0.633557</td>\n",
       "      <td>-0.219734</td>\n",
       "      <td>-0.522691</td>\n",
       "      <td>0.095924</td>\n",
       "      <td>-0.556813</td>\n",
       "      <td>-0.001998</td>\n",
       "      <td>-0.040833</td>\n",
       "      <td>0.0</td>\n",
       "      <td>Zinke</td>\n",
       "      <td>Ryan K.</td>\n",
       "      <td>Republican</td>\n",
       "      <td>Montana</td>\n",
       "    </tr>\n",
       "  </tbody>\n",
       "</table>\n",
       "<p>933 rows × 16 columns</p>\n",
       "</div>"
      ],
      "text/plain": [
       "    BIOGUIDE_ID  FRANKED MAIL  PERSONNEL COMPENSATION    TRAVEL  \\\n",
       "0       A000014     -0.439857               -1.008483 -0.869890   \n",
       "1       A000022     -0.103595               -0.524438 -0.853022   \n",
       "2       A000055     -0.326470                0.218289  0.748805   \n",
       "3       A000148     -0.453338                0.572019 -0.355615   \n",
       "4       A000210      0.041162               -0.586084 -0.849460   \n",
       "..          ...           ...                     ...       ...   \n",
       "928     Y000064      0.141552               -0.457496 -0.082094   \n",
       "929     Y000065     -0.271747               -0.066451  0.127232   \n",
       "930     Y000066      0.056159               -0.340876  0.084042   \n",
       "931     Z000017      0.629334                0.477587 -0.046988   \n",
       "932     Z000018     -0.159776               -0.619898  0.440528   \n",
       "\n",
       "     RENT, COMMUNICATION, UTILITIES  PRINTING AND REPRODUCTION  \\\n",
       "0                         -0.855460                  -0.446143   \n",
       "1                         -0.264055                  -0.293391   \n",
       "2                         -0.016961                  -0.321237   \n",
       "3                          1.310970                  -0.225054   \n",
       "4                         -0.245273                  -0.202061   \n",
       "..                              ...                        ...   \n",
       "928                       -0.542177                   0.198280   \n",
       "929                       -0.152667                  -0.190796   \n",
       "930                       -0.153210                  -0.131694   \n",
       "931                        0.582069                   0.322944   \n",
       "932                       -0.633557                  -0.219734   \n",
       "\n",
       "     OTHER SERVICES  SUPPLIES AND MATERIALS  EQUIPMENT  PERSONNEL BENEFITS  \\\n",
       "0         -0.700182               -0.230687  -0.575189           -0.001998   \n",
       "1         -0.230185               -0.118245  -0.565770           -0.001998   \n",
       "2         -0.113117               -0.023785   0.114221           -0.001998   \n",
       "3          0.014117               -0.037597   0.861940           -0.001998   \n",
       "4         -0.169609               -0.185621  -0.562913           -0.001998   \n",
       "..              ...                     ...        ...                 ...   \n",
       "928       -0.248551               -0.180442  -0.571207           -0.001998   \n",
       "929       -0.036926               -0.080539   0.064651           -0.001998   \n",
       "930       -0.129097               -0.086530  -0.117077           -0.001998   \n",
       "931        0.519221               -0.062521   0.611285           -0.001998   \n",
       "932       -0.522691                0.095924  -0.556813           -0.001998   \n",
       "\n",
       "     TRANSPORTATION OF THINGS  BENEFITS TO FORMER PERSONNEL     LASTNAME  \\\n",
       "0                   -0.040833                           0.0  Abercrombie   \n",
       "1                    0.563125                           0.0     Ackerman   \n",
       "2                   -0.040833                           0.0     Aderholt   \n",
       "3                   -0.040833                           0.0  Auchincloss   \n",
       "4                   -0.040833                           0.0      Andrews   \n",
       "..                        ...                           ...          ...   \n",
       "928                 -0.040833                           0.0        Young   \n",
       "929                 -0.040833                           0.0         Yoho   \n",
       "930                 -0.037097                           0.0        Young   \n",
       "931                  0.987060                           0.0       Zeldin   \n",
       "932                 -0.040833                           0.0        Zinke   \n",
       "\n",
       "     FIRSTNAME       PARTY          STATE  \n",
       "0         Neil  Democratic         Hawaii  \n",
       "1      Gary L.  Democratic       New York  \n",
       "2    Robert B.  Republican        Alabama  \n",
       "3         Jake  Democratic  Massachusetts  \n",
       "4    Robert E.  Democratic     New Jersey  \n",
       "..         ...         ...            ...  \n",
       "928       Todd  Republican        Indiana  \n",
       "929     Ted S.  Republican        Florida  \n",
       "930      David  Republican           Iowa  \n",
       "931     Lee M.  Republican       New York  \n",
       "932    Ryan K.  Republican        Montana  \n",
       "\n",
       "[933 rows x 16 columns]"
      ]
     },
     "execution_count": 134,
     "metadata": {},
     "output_type": "execute_result"
    }
   ],
   "source": [
    "spending_member_info_combined = spending_member_info.groupby(\"BIOGUIDE_ID\").mean()\n",
    "# non numerical data does not get returned by mean() so we do a left join with the member table to get back the missing data\n",
    "spending_member_info_combined = spending_member_info_combined.merge(members, on=\"BIOGUIDE_ID\")\n",
    "spending_member_info_combined"
   ]
  },
  {
   "cell_type": "markdown",
   "metadata": {},
   "source": [
    "Before training the model, we need to ensure that each party in the dataset has an appropriate number of datapoints. After going through the dataset, we realized that parties that are not the Democratic or Republican parties don't have enough data. We will isolate just Democratic and Republican members to ensure we have enough data to train and test the model for every party."
   ]
  },
  {
   "cell_type": "code",
   "execution_count": 135,
   "metadata": {
    "collapsed": true
   },
   "outputs": [
    {
     "data": {
      "text/plain": [
       "array(['Republican', 'Democratic'], dtype=object)"
      ]
     },
     "execution_count": 135,
     "metadata": {},
     "output_type": "execute_result"
    }
   ],
   "source": [
    "spending_member_info_2_party = pd.concat([spending_member_info_combined[spending_member_info_combined[\"PARTY\"] == 'Republican'], spending_member_info_combined[spending_member_info_combined[\"PARTY\"] == 'Democratic']])\n",
    "spending_member_info_2_party[\"PARTY\"].unique()"
   ]
  },
  {
   "cell_type": "markdown",
   "metadata": {},
   "source": [
    "We are splitting the dataset into a training set and a test set so we have we can evaluate the model's performance on data it has not seen before."
   ]
  },
  {
   "cell_type": "code",
   "execution_count": 136,
   "metadata": {},
   "outputs": [],
   "source": [
    "x_train, x_test, y_train, y_test = train_test_split(spending_member_info_2_party[categories], spending_member_info_2_party[\"PARTY\"])"
   ]
  },
  {
   "cell_type": "markdown",
   "metadata": {},
   "source": [
    "#### Selecting Hyperparameters\n",
    "All models that we use to tune our hyperparameters will use 10-fold cross validation to keep the training set larger by negating the need for a validation set. \n",
    "\n",
    "The first hyperparameter we want to choose between is the weight parameter so we are training 2 models with default parameters for everything except for the weighting."
   ]
  },
  {
   "cell_type": "code",
   "execution_count": 137,
   "metadata": {
    "collapsed": true
   },
   "outputs": [
    {
     "data": {
      "text/plain": [
       "0.6819668737060041"
      ]
     },
     "execution_count": 137,
     "metadata": {},
     "output_type": "execute_result"
    }
   ],
   "source": [
    "knn_model = KNeighborsClassifier()\n",
    "knn_trained = knn_model.fit(x_train, y_train)\n",
    "cross_val_score(knn_trained, x_train, y_train, cv=10).mean()"
   ]
  },
  {
   "cell_type": "code",
   "execution_count": 138,
   "metadata": {
    "collapsed": true
   },
   "outputs": [
    {
     "data": {
      "text/plain": [
       "0.6819875776397516"
      ]
     },
     "execution_count": 138,
     "metadata": {},
     "output_type": "execute_result"
    }
   ],
   "source": [
    "knn_model = KNeighborsClassifier(weights='distance')\n",
    "knn_trained = knn_model.fit(x_train, y_train)\n",
    "cross_val_score(knn_trained, x_train, y_train, cv=10).mean()"
   ]
  },
  {
   "cell_type": "markdown",
   "metadata": {},
   "source": [
    "It looks like both weighting methods produce extremely similar accuracies. As a result, we will use the distance weighting method because the closer a point is to other points, the more closely related we would expect them to be.\n",
    "\n",
    "The second parameter we want to tune is the number of neighbors the model is considering. To do this we are training models for intervals of 5 between 5 and 300 to see where the accuracy of the model peak or starts having diminishing returns."
   ]
  },
  {
   "cell_type": "code",
   "execution_count": 139,
   "metadata": {
    "collapsed": true
   },
   "outputs": [
    {
     "data": {
      "image/png": "[encoded data removed]",
      "text/plain": [
       "<Figure size 432x288 with 1 Axes>"
      ]
     },
     "metadata": {
      "needs_background": "light"
     },
     "output_type": "display_data"
    }
   ],
   "source": [
    "knn_model = KNeighborsClassifier(weights='distance')\n",
    "test_k = [1] + [i for i in range(5,300+1,5)]\n",
    "result_k = graphk(knn_model, test_k)"
   ]
  },
  {
   "cell_type": "markdown",
   "metadata": {},
   "source": [
    "From the graph it seems like the ideal number of neighbors is in the range between 10 and 50. We can do a grid search of all values in that range to better visualize the space."
   ]
  },
  {
   "cell_type": "code",
   "execution_count": 140,
   "metadata": {
    "collapsed": true
   },
   "outputs": [
    {
     "data": {
      "image/png": "[encoded data removed]",
      "text/plain": [
       "<Figure size 432x288 with 1 Axes>"
      ]
     },
     "metadata": {
      "needs_background": "light"
     },
     "output_type": "display_data"
    }
   ],
   "source": [
    "knn_model = KNeighborsClassifier()\n",
    "test_k = range(25,100+1)\n",
    "result_k = graphk(knn_model, test_k)"
   ]
  },
  {
   "cell_type": "markdown",
   "metadata": {},
   "source": [
    "From this graph we can grab the optimal k value."
   ]
  },
  {
   "cell_type": "code",
   "execution_count": 141,
   "metadata": {
    "collapsed": true
   },
   "outputs": [
    {
     "data": {
      "text/plain": [
       "47"
      ]
     },
     "execution_count": 141,
     "metadata": {},
     "output_type": "execute_result"
    }
   ],
   "source": [
    "max_score = max(result_k)\n",
    "index_of_max = result_k.index(max_score)\n",
    "optimal_k_val = test_k[index_of_max]\n",
    "optimal_k_val"
   ]
  },
  {
   "cell_type": "markdown",
   "metadata": {},
   "source": [
    "With all our hyper parameters finalized, we can train our final model and test it on our test set."
   ]
  },
  {
   "cell_type": "code",
   "execution_count": 142,
   "metadata": {
    "collapsed": true
   },
   "outputs": [
    {
     "data": {
      "text/plain": [
       "0.6652360515021459"
      ]
     },
     "execution_count": 142,
     "metadata": {},
     "output_type": "execute_result"
    }
   ],
   "source": [
    "knn_model = KNeighborsClassifier(n_neighbors=optimal_k_val)\n",
    "knn_trained = knn_model.fit(x_train, y_train)\n",
    "knn_model.score(x_test,y_test)"
   ]
  },
  {
   "cell_type": "markdown",
   "metadata": {},
   "source": [
    "To measure if our model is doing significantly better than random chance, we are using McNemar's test to compare our model to random guessing."
   ]
  },
  {
   "cell_type": "code",
   "execution_count": 143,
   "metadata": {},
   "outputs": [
    {
     "data": {
      "text/plain": [
       "0.007959455422446679"
      ]
     },
     "execution_count": 143,
     "metadata": {},
     "output_type": "execute_result"
    }
   ],
   "source": [
    "pvalue_against_random(knn_model, x_train, y_train, x_test, y_test)"
   ]
  },
  {
   "cell_type": "markdown",
   "metadata": {},
   "source": [
    "Based on the p-value, there is a 0.022% chance that we would have gotten the results we did if the null hypothesis was true. This is well below the 5% needed for significance in this class so we confidently reject the null hypothesis and claim `a candidate's spending is related to their political party`."
   ]
  },
  {
   "cell_type": "markdown",
   "metadata": {},
   "source": [
    "### K-NN Model to Predict the State a Candidate Represents\n",
    "We would like test if the spending of a candidate is related to the state they represent. Our null hypothesis is that `a candidate's spending has no relation to the state they represent`. To test this hypothesis, we aim to train a K-NN model and test its mean accuracy. If the model performs significantly better than random chance, we will have good reason to reject the null hypothesis.\n",
    "\n",
    "#### Model Specific Pre-processing\n",
    "Our previous model leads us to believe that a candidates spending over the quarters are related. Since we aim to see if a candidates spending is related to their state, it makes sense to average the data for each quarter for each candidate. This will prevent the model from predicting the state by simply predicting the candidate the data belongs to. We already constructed this dataset in the previous model."
   ]
  },
  {
   "cell_type": "markdown",
   "metadata": {},
   "source": [
    "Before training the model, we need to ensure that each state in the dataset has an appropriate number of datapoints. After going through the dataset, decided to only include states that had atleast 9 datapoints. This would ensure that every fold of the testset would have atleast 1 datapoint."
   ]
  },
  {
   "cell_type": "code",
   "execution_count": 144,
   "metadata": {},
   "outputs": [
    {
     "data": {
      "text/plain": [
       "(33, 56)"
      ]
     },
     "execution_count": 144,
     "metadata": {},
     "output_type": "execute_result"
    }
   ],
   "source": [
    "spending_member_info_states_arr = []\n",
    "for bio_id in spending_member_info_combined[\"STATE\"].unique():\n",
    "    count = sum(sum([spending_member_info_combined[\"STATE\"] == bio_id]))\n",
    "    if count >= 9:\n",
    "        spending_member_info_states_arr.append(spending_member_info_combined[spending_member_info_combined[\"STATE\"] == bio_id])\n",
    "spending_member_info_states = pd.concat(spending_member_info_states_arr)\n",
    "(len(spending_member_info_states[\"STATE\"].unique()),len(spending_member_info_combined[\"STATE\"].unique()))"
   ]
  },
  {
   "cell_type": "markdown",
   "metadata": {},
   "source": [
    "We are splitting the dataset into a training set and a test set so we have we can evaluate the model's performance on data it has not seen before."
   ]
  },
  {
   "cell_type": "code",
   "execution_count": 145,
   "metadata": {},
   "outputs": [],
   "source": [
    "x_train, x_test, y_train, y_test = train_test_split(spending_member_info_states[categories],spending_member_info_states[\"STATE\"])"
   ]
  },
  {
   "cell_type": "markdown",
   "metadata": {},
   "source": [
    "#### Selecting Hyperparameters\n",
    "All models that we use to tune our hyperparameters will use 5-fold cross validation to keep the training set larger by negating the need for a validation set. \n",
    "\n",
    "The first hyperparameter we want to choose between is the weight parameter so we are training 2 models with default parameters for everything except for the weighting."
   ]
  },
  {
   "cell_type": "code",
   "execution_count": 146,
   "metadata": {
    "collapsed": true
   },
   "outputs": [
    {
     "name": "stderr",
     "output_type": "stream",
     "text": [
      "/opt/conda/lib/python3.8/site-packages/sklearn/model_selection/_split.py:666: UserWarning: The least populated class in y has only 3 members, which is less than n_splits=5.\n",
      "  warnings.warn((\"The least populated class in y has only %d\"\n"
     ]
    },
    {
     "data": {
      "text/plain": [
       "0.09632545931758531"
      ]
     },
     "execution_count": 146,
     "metadata": {},
     "output_type": "execute_result"
    }
   ],
   "source": [
    "knn_model = KNeighborsClassifier()\n",
    "knn_trained = knn_model.fit(x_train, y_train)\n",
    "cross_val_score(knn_trained, x_train, y_train).mean()"
   ]
  },
  {
   "cell_type": "code",
   "execution_count": 147,
   "metadata": {
    "collapsed": true
   },
   "outputs": [
    {
     "name": "stderr",
     "output_type": "stream",
     "text": [
      "/opt/conda/lib/python3.8/site-packages/sklearn/model_selection/_split.py:666: UserWarning: The least populated class in y has only 3 members, which is less than n_splits=5.\n",
      "  warnings.warn((\"The least populated class in y has only %d\"\n"
     ]
    },
    {
     "data": {
      "text/plain": [
       "0.08366454193225847"
      ]
     },
     "execution_count": 147,
     "metadata": {},
     "output_type": "execute_result"
    }
   ],
   "source": [
    "knn_model = KNeighborsClassifier(weights='distance')\n",
    "knn_trained = knn_model.fit(x_train, y_train)\n",
    "cross_val_score(knn_trained, x_train, y_train).mean()"
   ]
  },
  {
   "cell_type": "markdown",
   "metadata": {},
   "source": [
    "It looks like the distance method is slightly better in terms of mean accuracy. This makes sense as we expect the closer a point is to other points, the more closely related we would expect them to be. Thus we will be using the distance weight method for this model.\n",
    "\n",
    "The second parameter we want to tune is the number of neighbors the model is considering. To do this we are training models for intervals of 5 between 5 and 300 to see where the accuracy of the model peak or starts having diminishing returns."
   ]
  },
  {
   "cell_type": "code",
   "execution_count": 148,
   "metadata": {
    "collapsed": true
   },
   "outputs": [
    {
     "name": "stderr",
     "output_type": "stream",
     "text": [
      "/opt/conda/lib/python3.8/site-packages/sklearn/model_selection/_split.py:666: UserWarning: The least populated class in y has only 3 members, which is less than n_splits=5.\n",
      "  warnings.warn((\"The least populated class in y has only %d\"\n"
     ]
    },
    {
     "data": {
      "image/png": "[encoded data removed]",
      "text/plain": [
       "<Figure size 432x288 with 1 Axes>"
      ]
     },
     "metadata": {
      "needs_background": "light"
     },
     "output_type": "display_data"
    }
   ],
   "source": [
    "knn_model = KNeighborsClassifier(weights='distance')\n",
    "test_k = [1] + [i for i in range(5,300+1,5)]\n",
    "result_k = graphk(knn_model, test_k, folds = 5)"
   ]
  },
  {
   "cell_type": "markdown",
   "metadata": {},
   "source": [
    "From the graph it seems like the ideal number of neighbors is in the range between 25 and 75. We can do a grid search of all values in that range to better visualize the space."
   ]
  },
  {
   "cell_type": "code",
   "execution_count": 149,
   "metadata": {
    "collapsed": true
   },
   "outputs": [
    {
     "name": "stderr",
     "output_type": "stream",
     "text": [
      "/opt/conda/lib/python3.8/site-packages/sklearn/model_selection/_split.py:666: UserWarning: The least populated class in y has only 3 members, which is less than n_splits=5.\n",
      "  warnings.warn((\"The least populated class in y has only %d\"\n"
     ]
    },
    {
     "data": {
      "image/png": "[encoded data removed]",
      "text/plain": [
       "<Figure size 432x288 with 1 Axes>"
      ]
     },
     "metadata": {
      "needs_background": "light"
     },
     "output_type": "display_data"
    }
   ],
   "source": [
    "knn_model = KNeighborsClassifier(weights='distance')\n",
    "test_k = range(50,100)\n",
    "result_k = graphk(knn_model, test_k, folds = 5)"
   ]
  },
  {
   "cell_type": "markdown",
   "metadata": {},
   "source": [
    "From this graph we can grab the optimal k value."
   ]
  },
  {
   "cell_type": "code",
   "execution_count": 150,
   "metadata": {
    "collapsed": true
   },
   "outputs": [
    {
     "data": {
      "text/plain": [
       "91"
      ]
     },
     "execution_count": 150,
     "metadata": {},
     "output_type": "execute_result"
    }
   ],
   "source": [
    "max_score = max(result_k)\n",
    "index_of_max = result_k.index(max_score)\n",
    "optimal_k_val = test_k[index_of_max]\n",
    "optimal_k_val"
   ]
  },
  {
   "cell_type": "markdown",
   "metadata": {},
   "source": [
    "With all our hyper parameters finalized, we can train our final model and test it on our test set."
   ]
  },
  {
   "cell_type": "code",
   "execution_count": 151,
   "metadata": {
    "collapsed": true
   },
   "outputs": [
    {
     "data": {
      "text/plain": [
       "0.10900473933649289"
      ]
     },
     "execution_count": 151,
     "metadata": {},
     "output_type": "execute_result"
    }
   ],
   "source": [
    "knn_model = KNeighborsClassifier(n_neighbors=optimal_k_val)\n",
    "knn_trained = knn_model.fit(x_train, y_train)\n",
    "knn_model.score(x_test,y_test)"
   ]
  },
  {
   "cell_type": "markdown",
   "metadata": {},
   "source": [
    "To measure if our model is doing significantly better than random chance, we are using McNemar's test to compare our model to random guessing."
   ]
  },
  {
   "cell_type": "code",
   "execution_count": 152,
   "metadata": {},
   "outputs": [
    {
     "data": {
      "text/plain": [
       "0.0009122341871261592"
      ]
     },
     "execution_count": 152,
     "metadata": {},
     "output_type": "execute_result"
    }
   ],
   "source": [
    "pvalue_against_random(knn_model, x_train, y_train, x_test, y_test)"
   ]
  },
  {
   "cell_type": "markdown",
   "metadata": {},
   "source": [
    "Based on the p-value, there is a 0.026% chance that we would have gotten the results we did if the null hypothesis was true. This is well below the 5% needed for significance in this class so we confidently reject the null hypothesis and claim `a candidate's spending is related to the state they represent`."
   ]
  },
  {
   "cell_type": "markdown",
   "metadata": {},
   "source": [
    "# Part 3\n",
    "## Cohorts of House members and personnel spending\n",
    "\n",
    "For this part of the project, let's consider each freshman class of members of the House. To do this, we'll have to add in data from the elections dataframe as well. Note that we are using the date of each member's last election to the house and subtracting the number of terms they have served (per the data obtained from theunitedstates.io), since we are ignoring special elections (instead, we consider specially elected members as members of the previous cohort). "
   ]
  },
  {
   "cell_type": "code",
   "execution_count": 153,
   "metadata": {
    "collapsed": true
   },
   "outputs": [
    {
     "data": {
      "text/html": [
       "<div>\n",
       "<style scoped>\n",
       "    .dataframe tbody tr th:only-of-type {\n",
       "        vertical-align: middle;\n",
       "    }\n",
       "\n",
       "    .dataframe tbody tr th {\n",
       "        vertical-align: top;\n",
       "    }\n",
       "\n",
       "    .dataframe thead th {\n",
       "        text-align: right;\n",
       "    }\n",
       "</style>\n",
       "<table border=\"1\" class=\"dataframe\">\n",
       "  <thead>\n",
       "    <tr style=\"text-align: right;\">\n",
       "      <th></th>\n",
       "      <th>BIOGUIDE_ID</th>\n",
       "      <th>FRANKED MAIL</th>\n",
       "      <th>PERSONNEL COMPENSATION</th>\n",
       "      <th>TRAVEL</th>\n",
       "      <th>RENT, COMMUNICATION, UTILITIES</th>\n",
       "      <th>PRINTING AND REPRODUCTION</th>\n",
       "      <th>OTHER SERVICES</th>\n",
       "      <th>SUPPLIES AND MATERIALS</th>\n",
       "      <th>EQUIPMENT</th>\n",
       "      <th>PERSONNEL BENEFITS</th>\n",
       "      <th>TRANSPORTATION OF THINGS</th>\n",
       "      <th>BENEFITS TO FORMER PERSONNEL</th>\n",
       "      <th>LASTNAME</th>\n",
       "      <th>FIRSTNAME</th>\n",
       "      <th>PARTY</th>\n",
       "      <th>STATE</th>\n",
       "      <th>TERMS</th>\n",
       "      <th>FIRST_ELECTED</th>\n",
       "    </tr>\n",
       "  </thead>\n",
       "  <tbody>\n",
       "    <tr>\n",
       "      <th>4</th>\n",
       "      <td>A000366</td>\n",
       "      <td>0.284530</td>\n",
       "      <td>-0.719845</td>\n",
       "      <td>-0.784155</td>\n",
       "      <td>-0.746124</td>\n",
       "      <td>0.345259</td>\n",
       "      <td>-0.283478</td>\n",
       "      <td>-0.178560</td>\n",
       "      <td>-0.567567</td>\n",
       "      <td>-0.001998</td>\n",
       "      <td>-0.040833</td>\n",
       "      <td>0.0</td>\n",
       "      <td>Adams</td>\n",
       "      <td>Sandy</td>\n",
       "      <td>Republican</td>\n",
       "      <td>Florida</td>\n",
       "      <td>1</td>\n",
       "      <td>2010.0</td>\n",
       "    </tr>\n",
       "    <tr>\n",
       "      <th>5</th>\n",
       "      <td>A000369</td>\n",
       "      <td>-0.317977</td>\n",
       "      <td>0.088231</td>\n",
       "      <td>0.694747</td>\n",
       "      <td>0.354594</td>\n",
       "      <td>-0.272964</td>\n",
       "      <td>0.184215</td>\n",
       "      <td>0.090456</td>\n",
       "      <td>0.100903</td>\n",
       "      <td>-0.001998</td>\n",
       "      <td>-0.040833</td>\n",
       "      <td>0.0</td>\n",
       "      <td>Amodei</td>\n",
       "      <td>Mark E.</td>\n",
       "      <td>Republican</td>\n",
       "      <td>Nevada</td>\n",
       "      <td>6</td>\n",
       "      <td>2010.0</td>\n",
       "    </tr>\n",
       "    <tr>\n",
       "      <th>6</th>\n",
       "      <td>A000372</td>\n",
       "      <td>0.998012</td>\n",
       "      <td>0.490208</td>\n",
       "      <td>0.491517</td>\n",
       "      <td>0.143625</td>\n",
       "      <td>0.812662</td>\n",
       "      <td>0.311548</td>\n",
       "      <td>-0.126180</td>\n",
       "      <td>0.683421</td>\n",
       "      <td>-0.001998</td>\n",
       "      <td>-0.025880</td>\n",
       "      <td>0.0</td>\n",
       "      <td>Allen</td>\n",
       "      <td>Rick W.</td>\n",
       "      <td>Republican</td>\n",
       "      <td>Georgia</td>\n",
       "      <td>4</td>\n",
       "      <td>2014.0</td>\n",
       "    </tr>\n",
       "    <tr>\n",
       "      <th>7</th>\n",
       "      <td>A000374</td>\n",
       "      <td>-0.187820</td>\n",
       "      <td>0.341144</td>\n",
       "      <td>1.818128</td>\n",
       "      <td>-0.026972</td>\n",
       "      <td>-0.286904</td>\n",
       "      <td>-0.198339</td>\n",
       "      <td>-0.052744</td>\n",
       "      <td>0.414512</td>\n",
       "      <td>-0.001998</td>\n",
       "      <td>-0.024125</td>\n",
       "      <td>0.0</td>\n",
       "      <td>Abraham</td>\n",
       "      <td>Ralph Lee</td>\n",
       "      <td>Republican</td>\n",
       "      <td>Louisiana</td>\n",
       "      <td>3</td>\n",
       "      <td>2014.0</td>\n",
       "    </tr>\n",
       "    <tr>\n",
       "      <th>8</th>\n",
       "      <td>A000375</td>\n",
       "      <td>0.537712</td>\n",
       "      <td>0.572280</td>\n",
       "      <td>1.199822</td>\n",
       "      <td>0.586730</td>\n",
       "      <td>0.479530</td>\n",
       "      <td>0.581046</td>\n",
       "      <td>0.049816</td>\n",
       "      <td>1.050732</td>\n",
       "      <td>-0.001998</td>\n",
       "      <td>-0.040833</td>\n",
       "      <td>0.0</td>\n",
       "      <td>Arrington</td>\n",
       "      <td>Jodey C.</td>\n",
       "      <td>Republican</td>\n",
       "      <td>Texas</td>\n",
       "      <td>3</td>\n",
       "      <td>2016.0</td>\n",
       "    </tr>\n",
       "    <tr>\n",
       "      <th>...</th>\n",
       "      <td>...</td>\n",
       "      <td>...</td>\n",
       "      <td>...</td>\n",
       "      <td>...</td>\n",
       "      <td>...</td>\n",
       "      <td>...</td>\n",
       "      <td>...</td>\n",
       "      <td>...</td>\n",
       "      <td>...</td>\n",
       "      <td>...</td>\n",
       "      <td>...</td>\n",
       "      <td>...</td>\n",
       "      <td>...</td>\n",
       "      <td>...</td>\n",
       "      <td>...</td>\n",
       "      <td>...</td>\n",
       "      <td>...</td>\n",
       "      <td>...</td>\n",
       "    </tr>\n",
       "    <tr>\n",
       "      <th>925</th>\n",
       "      <td>W000801</td>\n",
       "      <td>-0.314254</td>\n",
       "      <td>-0.791776</td>\n",
       "      <td>-0.649738</td>\n",
       "      <td>-0.758273</td>\n",
       "      <td>-0.323758</td>\n",
       "      <td>-0.790420</td>\n",
       "      <td>-0.227203</td>\n",
       "      <td>-0.569024</td>\n",
       "      <td>-0.001998</td>\n",
       "      <td>-0.040833</td>\n",
       "      <td>0.0</td>\n",
       "      <td>Wilson</td>\n",
       "      <td>Charles A.</td>\n",
       "      <td>Democratic</td>\n",
       "      <td>Ohio</td>\n",
       "      <td>2</td>\n",
       "      <td>2010.0</td>\n",
       "    </tr>\n",
       "    <tr>\n",
       "      <th>926</th>\n",
       "      <td>W000808</td>\n",
       "      <td>-0.223465</td>\n",
       "      <td>0.141687</td>\n",
       "      <td>0.355619</td>\n",
       "      <td>0.278164</td>\n",
       "      <td>0.084915</td>\n",
       "      <td>-0.105070</td>\n",
       "      <td>-0.049330</td>\n",
       "      <td>0.132782</td>\n",
       "      <td>-0.001998</td>\n",
       "      <td>-0.040833</td>\n",
       "      <td>0.0</td>\n",
       "      <td>Wilson</td>\n",
       "      <td>Frederica S.</td>\n",
       "      <td>Democratic</td>\n",
       "      <td>Florida</td>\n",
       "      <td>6</td>\n",
       "      <td>2010.0</td>\n",
       "    </tr>\n",
       "    <tr>\n",
       "      <th>927</th>\n",
       "      <td>W000822</td>\n",
       "      <td>-0.216525</td>\n",
       "      <td>0.623122</td>\n",
       "      <td>-0.413582</td>\n",
       "      <td>0.308720</td>\n",
       "      <td>-0.211428</td>\n",
       "      <td>0.468912</td>\n",
       "      <td>0.009976</td>\n",
       "      <td>0.599885</td>\n",
       "      <td>-0.001998</td>\n",
       "      <td>-0.040833</td>\n",
       "      <td>0.0</td>\n",
       "      <td>Watson Coleman</td>\n",
       "      <td>Bonnie</td>\n",
       "      <td>Democratic</td>\n",
       "      <td>New Jersey</td>\n",
       "      <td>4</td>\n",
       "      <td>2014.0</td>\n",
       "    </tr>\n",
       "    <tr>\n",
       "      <th>928</th>\n",
       "      <td>W000825</td>\n",
       "      <td>0.591540</td>\n",
       "      <td>1.685866</td>\n",
       "      <td>-0.808858</td>\n",
       "      <td>0.788760</td>\n",
       "      <td>0.714577</td>\n",
       "      <td>1.336754</td>\n",
       "      <td>0.053319</td>\n",
       "      <td>1.759796</td>\n",
       "      <td>-0.001998</td>\n",
       "      <td>-0.040833</td>\n",
       "      <td>0.0</td>\n",
       "      <td>Wexton</td>\n",
       "      <td>Jennifer</td>\n",
       "      <td>Democratic</td>\n",
       "      <td>Virginia</td>\n",
       "      <td>2</td>\n",
       "      <td>2018.0</td>\n",
       "    </tr>\n",
       "    <tr>\n",
       "      <th>929</th>\n",
       "      <td>W000826</td>\n",
       "      <td>1.285614</td>\n",
       "      <td>1.668645</td>\n",
       "      <td>-0.166134</td>\n",
       "      <td>1.616155</td>\n",
       "      <td>1.014790</td>\n",
       "      <td>0.490067</td>\n",
       "      <td>0.164893</td>\n",
       "      <td>1.843722</td>\n",
       "      <td>-0.001998</td>\n",
       "      <td>-0.040833</td>\n",
       "      <td>0.0</td>\n",
       "      <td>Wild</td>\n",
       "      <td>Susan</td>\n",
       "      <td>Democratic</td>\n",
       "      <td>Pennsylvania</td>\n",
       "      <td>3</td>\n",
       "      <td>2016.0</td>\n",
       "    </tr>\n",
       "  </tbody>\n",
       "</table>\n",
       "<p>472 rows × 18 columns</p>\n",
       "</div>"
      ],
      "text/plain": [
       "    BIOGUIDE_ID  FRANKED MAIL  PERSONNEL COMPENSATION    TRAVEL  \\\n",
       "4       A000366      0.284530               -0.719845 -0.784155   \n",
       "5       A000369     -0.317977                0.088231  0.694747   \n",
       "6       A000372      0.998012                0.490208  0.491517   \n",
       "7       A000374     -0.187820                0.341144  1.818128   \n",
       "8       A000375      0.537712                0.572280  1.199822   \n",
       "..          ...           ...                     ...       ...   \n",
       "925     W000801     -0.314254               -0.791776 -0.649738   \n",
       "926     W000808     -0.223465                0.141687  0.355619   \n",
       "927     W000822     -0.216525                0.623122 -0.413582   \n",
       "928     W000825      0.591540                1.685866 -0.808858   \n",
       "929     W000826      1.285614                1.668645 -0.166134   \n",
       "\n",
       "     RENT, COMMUNICATION, UTILITIES  PRINTING AND REPRODUCTION  \\\n",
       "4                         -0.746124                   0.345259   \n",
       "5                          0.354594                  -0.272964   \n",
       "6                          0.143625                   0.812662   \n",
       "7                         -0.026972                  -0.286904   \n",
       "8                          0.586730                   0.479530   \n",
       "..                              ...                        ...   \n",
       "925                       -0.758273                  -0.323758   \n",
       "926                        0.278164                   0.084915   \n",
       "927                        0.308720                  -0.211428   \n",
       "928                        0.788760                   0.714577   \n",
       "929                        1.616155                   1.014790   \n",
       "\n",
       "     OTHER SERVICES  SUPPLIES AND MATERIALS  EQUIPMENT  PERSONNEL BENEFITS  \\\n",
       "4         -0.283478               -0.178560  -0.567567           -0.001998   \n",
       "5          0.184215                0.090456   0.100903           -0.001998   \n",
       "6          0.311548               -0.126180   0.683421           -0.001998   \n",
       "7         -0.198339               -0.052744   0.414512           -0.001998   \n",
       "8          0.581046                0.049816   1.050732           -0.001998   \n",
       "..              ...                     ...        ...                 ...   \n",
       "925       -0.790420               -0.227203  -0.569024           -0.001998   \n",
       "926       -0.105070               -0.049330   0.132782           -0.001998   \n",
       "927        0.468912                0.009976   0.599885           -0.001998   \n",
       "928        1.336754                0.053319   1.759796           -0.001998   \n",
       "929        0.490067                0.164893   1.843722           -0.001998   \n",
       "\n",
       "     TRANSPORTATION OF THINGS  BENEFITS TO FORMER PERSONNEL        LASTNAME  \\\n",
       "4                   -0.040833                           0.0           Adams   \n",
       "5                   -0.040833                           0.0          Amodei   \n",
       "6                   -0.025880                           0.0           Allen   \n",
       "7                   -0.024125                           0.0         Abraham   \n",
       "8                   -0.040833                           0.0       Arrington   \n",
       "..                        ...                           ...             ...   \n",
       "925                 -0.040833                           0.0          Wilson   \n",
       "926                 -0.040833                           0.0          Wilson   \n",
       "927                 -0.040833                           0.0  Watson Coleman   \n",
       "928                 -0.040833                           0.0          Wexton   \n",
       "929                 -0.040833                           0.0            Wild   \n",
       "\n",
       "        FIRSTNAME       PARTY         STATE  TERMS  FIRST_ELECTED  \n",
       "4           Sandy  Republican       Florida      1         2010.0  \n",
       "5         Mark E.  Republican        Nevada      6         2010.0  \n",
       "6         Rick W.  Republican       Georgia      4         2014.0  \n",
       "7       Ralph Lee  Republican     Louisiana      3         2014.0  \n",
       "8        Jodey C.  Republican         Texas      3         2016.0  \n",
       "..            ...         ...           ...    ...            ...  \n",
       "925    Charles A.  Democratic          Ohio      2         2010.0  \n",
       "926  Frederica S.  Democratic       Florida      6         2010.0  \n",
       "927        Bonnie  Democratic    New Jersey      4         2014.0  \n",
       "928      Jennifer  Democratic      Virginia      2         2018.0  \n",
       "929         Susan  Democratic  Pennsylvania      3         2016.0  \n",
       "\n",
       "[472 rows x 18 columns]"
      ]
     },
     "execution_count": 153,
     "metadata": {},
     "output_type": "execute_result"
    }
   ],
   "source": [
    "import re\n",
    "candidate_election_res = []\n",
    "spending_election_df = spending_member_info_2_party.merge(us_io_data, on=\"BIOGUIDE_ID\")\n",
    "for index, row in spending_election_df.iterrows():\n",
    "    candidate_res = (election_data[election_data['candidate'].str.contains(row['LASTNAME'], flags=re.IGNORECASE) & election_data['state'].str.contains(row['STATE'], flags=re.IGNORECASE)])\n",
    "    if not candidate_res.empty:\n",
    "        spending_election_df.loc[index, 'FIRST_ELECTED'] = candidate_res['year'].max() - int((row['TERMS'] - 1) * 2)\n",
    "\n",
    "spending_election_df.dropna(subset=['FIRST_ELECTED'], inplace=True)\n",
    "\n",
    "spending_election_df = spending_election_df[spending_election_df['FIRST_ELECTED'] >= 2010]\n",
    "spending_election_df"
   ]
  },
  {
   "cell_type": "markdown",
   "metadata": {},
   "source": [
    "Here we have the spending dataframe from before, but now with the election data added. The \"FIRST_ELECTED\" column contains the election in which each member of the House was first elected. Since we are only concerned with evaluating the spending patterns of new cohorts of members of Congress, we need to have spending data for their entire congressional tenure - meaning that we need to drop any rows where \"FIRST_ELECTED\" is NaN (since these people were elected before 2010 and not subsequently re-elected), and any members whose first term started before 2010. \n",
    "\n",
    "As an example of this, we can generate violin plots of each cohort's spending on different categories. For example, we'll plot personnel compensation and travel. "
   ]
  },
  {
   "cell_type": "code",
   "execution_count": 154,
   "metadata": {
    "collapsed": true
   },
   "outputs": [
    {
     "data": {
      "text/plain": [
       "Text(0.5, 1.0, 'Cohorts of freshmen members of congress and their spending on personnel compensation')"
      ]
     },
     "execution_count": 154,
     "metadata": {},
     "output_type": "execute_result"
    },
    {
     "data": {
      "image/png": "[encoded data removed]",
      "text/plain": [
       "<Figure size 432x288 with 1 Axes>"
      ]
     },
     "metadata": {
      "needs_background": "light"
     },
     "output_type": "display_data"
    }
   ],
   "source": [
    "fig, ax = plt.subplots()\n",
    "spending_cohort = []\n",
    "for year in spending_election_df.FIRST_ELECTED.unique():\n",
    "    spending_cohort.append(spending_election_df[spending_election_df.FIRST_ELECTED.eq(year)]['PERSONNEL COMPENSATION'])\n",
    "\n",
    "ax.violinplot(spending_cohort, spending_election_df['FIRST_ELECTED'].unique(), showmeans=True)\n",
    "ax.set_xlabel(\"Year first elected\")\n",
    "ax.set_ylabel(\"Dollars\")\n",
    "ax.set_title(\"Cohorts of freshmen members of congress and their spending on personnel compensation\")"
   ]
  },
  {
   "cell_type": "code",
   "execution_count": 155,
   "metadata": {
    "collapsed": true
   },
   "outputs": [
    {
     "data": {
      "text/plain": [
       "Text(0.5, 1.0, 'Cohorts of freshmen members of congress and their spending on travel')"
      ]
     },
     "execution_count": 155,
     "metadata": {},
     "output_type": "execute_result"
    },
    {
     "data": {
      "image/png": "[encoded data removed]",
      "text/plain": [
       "<Figure size 432x288 with 1 Axes>"
      ]
     },
     "metadata": {
      "needs_background": "light"
     },
     "output_type": "display_data"
    }
   ],
   "source": [
    "fig, ax = plt.subplots()\n",
    "spending_cohort = []\n",
    "for year in spending_election_df.FIRST_ELECTED.unique():\n",
    "    spending_cohort.append(spending_election_df[spending_election_df.FIRST_ELECTED.eq(year)]['TRAVEL'])\n",
    "\n",
    "ax.violinplot(spending_cohort, spending_election_df['FIRST_ELECTED'].unique(), showmeans=True)\n",
    "ax.set_xlabel(\"Year first elected\")\n",
    "ax.set_ylabel(\"Dollars\")\n",
    "ax.set_title(\"Cohorts of freshmen members of congress and their spending on travel\")"
   ]
  },
  {
   "cell_type": "markdown",
   "metadata": {},
   "source": [
    "We can see that personnel compensation was much higher for members of congress initially elected in 2018. From here, we can suggest our null hypothesis (the default condition): that there is no correlation between the year a member of the House was initially elected and the amount they paid their staff. "
   ]
  },
  {
   "cell_type": "code",
   "execution_count": 156,
   "metadata": {
    "collapsed": true
   },
   "outputs": [
    {
     "data": {
      "image/png": "[encoded data removed]",
      "text/plain": [
       "<Figure size 432x288 with 1 Axes>"
      ]
     },
     "metadata": {
      "needs_background": "light"
     },
     "output_type": "display_data"
    }
   ],
   "source": [
    "spending_election_df['NORMALIZED_COHORT'] = spending_election_df['FIRST_ELECTED'] - 2010\n",
    "plt.plot(spending_election_df['NORMALIZED_COHORT'], spending_election_df['PERSONNEL COMPENSATION'], 'ro')\n",
    "plt.title(\"Scatter plot of house cohorts and personnel compensation\")\n",
    "plt.xlabel(\"Year initially elected (normalized)\")\n",
    "plt.ylabel(\"Dollars\")\n",
    "(m, b) = np.polyfit(spending_election_df['NORMALIZED_COHORT'].values, spending_election_df['PERSONNEL COMPENSATION'].values, 1)\n",
    "plt.plot(spending_election_df['NORMALIZED_COHORT'].values, b + m * spending_election_df['NORMALIZED_COHORT'].values, '-')\n",
    "plt.show()"
   ]
  },
  {
   "cell_type": "code",
   "execution_count": 157,
   "metadata": {
    "collapsed": true
   },
   "outputs": [
    {
     "name": "stdout",
     "output_type": "stream",
     "text": [
      "Intercept            1.246340e-09\n",
      "NORMALIZED_COHORT    2.065143e-51\n",
      "Name: P>|t|, dtype: float64\n"
     ]
    }
   ],
   "source": [
    "import statsmodels.formula.api as smf\n",
    "spending_election_df.rename(columns={ 'PERSONNEL COMPENSATION': 'PERSONNEL_COMPENSATION'}, inplace=True)\n",
    "mod = smf.ols(formula='PERSONNEL_COMPENSATION ~ NORMALIZED_COHORT', data=spending_election_df)\n",
    "\n",
    "fii = mod.fit()\n",
    "p_values = fii.summary2().tables[1]['P>|t|']\n",
    "print(p_values)"
   ]
  },
  {
   "cell_type": "markdown",
   "metadata": {},
   "source": [
    "After running our P-test, we can see that there is a statistical correlation between the cohort (in this case its normalized form), and the amount that each member of the house spent on paying their legislative staff. We can therefore reject the null hypothesis and conclude that there is a statistically significant correlation between freshman class and the amount spent on each member's office staff. "
   ]
  }
 ],
 "metadata": {
  "colab": {
   "collapsed_sections": [],
   "name": "final_tutorial.ipynb",
   "provenance": [],
   "toc_visible": true
  },
  "interpreter": {
   "hash": "916dbcbb3f70747c44a77c7bcd40155683ae19c65e1c03b4aa3499c5328201f1"
  },
  "kernelspec": {
   "display_name": "Python 3.9.7 64-bit",
   "language": "python",
   "name": "python3"
  },
  "language_info": {
   "codemirror_mode": {
    "name": "ipython",
    "version": 3
   },
   "file_extension": ".py",
   "mimetype": "text/x-python",
   "name": "python",
   "nbconvert_exporter": "python",
   "pygments_lexer": "ipython3",
   "version": "3.9.7"
  }
 },
 "nbformat": 4,
 "nbformat_minor": 1
}
